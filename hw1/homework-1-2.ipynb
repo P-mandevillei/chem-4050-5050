{
 "cells": [
  {
   "cell_type": "markdown",
   "id": "6f6008b6-c683-4102-8aff-97ec6b5e9c78",
   "metadata": {},
   "source": [
    "# Importing and Exploring Data\n",
    "https://cccbdb.nist.gov/exp1x.asp"
   ]
  },
  {
   "cell_type": "code",
   "execution_count": 97,
   "id": "77273dd3-5edc-4728-9ff4-883f4418581a",
   "metadata": {},
   "outputs": [],
   "source": [
    "# store the data obtained from cccbdb\n",
    "H2_geo = {\n",
    "    'H1': [0.0, 0.0, 0.0],\n",
    "    'H2': [0.0, 0.0, 0.7414]\n",
    "}\n",
    "H2O_geo = {\n",
    "    'O1': [0.0, 0.0, 0.1173],\n",
    "    'H2': [0.0, 0.7572, -0.4692],\n",
    "    'H3': [0.0, -0.7572, -0.4692]\n",
    "}\n",
    "benzene_geo = {\n",
    "    'C1': [0.0000, 1.3970, 0.0000],\n",
    "    'C2': [1.2098, 0.6985, 0.0000],\n",
    "    'C3': [1.2098, -0.6985, 0.0000],\n",
    "    'C4': [0.0000, -1.3970, 0.0000],\n",
    "    'C5': [-1.2098, -0.6985, 0.0000],\n",
    "    'C6': [-1.2098, 0.6985, 0.0000],\n",
    "    'H7': [0.0000, 2.4810, 0.0000],\n",
    "    'H8': [2.1486, 1.2405, 0.0000],\n",
    "    'H9': [2.1486, -1.2405, 0.0000],\n",
    "    'H10': [0.0000, -2.4810, 0.0000],\n",
    "    'H11': [-2.1486, -1.2405, 0.0000],\n",
    "    'H12': [-2.1486, 1.2405, 0.0000]\n",
    "}"
   ]
  },
  {
   "cell_type": "code",
   "execution_count": 98,
   "id": "cf2c4215-94da-4457-a96d-3ea1ae574134",
   "metadata": {},
   "outputs": [
    {
     "data": {
      "text/plain": [
       "{'H1': [0.0, 0.0, 0.0], 'H2': [0.0, 0.0, 0.7414]}"
      ]
     },
     "execution_count": 98,
     "metadata": {},
     "output_type": "execute_result"
    }
   ],
   "source": [
    "H2_geo"
   ]
  },
  {
   "cell_type": "code",
   "execution_count": 99,
   "id": "bf3d87aa-edce-4a4e-8c11-08c9228659ad",
   "metadata": {},
   "outputs": [
    {
     "data": {
      "text/plain": [
       "{'O1': [0.0, 0.0, 0.1173],\n",
       " 'H2': [0.0, 0.7572, -0.4692],\n",
       " 'H3': [0.0, -0.7572, -0.4692]}"
      ]
     },
     "execution_count": 99,
     "metadata": {},
     "output_type": "execute_result"
    }
   ],
   "source": [
    "H2O_geo"
   ]
  },
  {
   "cell_type": "code",
   "execution_count": 100,
   "id": "23cb1167-8c8c-4450-b728-33909da4f795",
   "metadata": {},
   "outputs": [
    {
     "data": {
      "text/plain": [
       "{'C1': [0.0, 1.397, 0.0],\n",
       " 'C2': [1.2098, 0.6985, 0.0],\n",
       " 'C3': [1.2098, -0.6985, 0.0],\n",
       " 'C4': [0.0, -1.397, 0.0],\n",
       " 'C5': [-1.2098, -0.6985, 0.0],\n",
       " 'C6': [-1.2098, 0.6985, 0.0],\n",
       " 'H7': [0.0, 2.481, 0.0],\n",
       " 'H8': [2.1486, 1.2405, 0.0],\n",
       " 'H9': [2.1486, -1.2405, 0.0],\n",
       " 'H10': [0.0, -2.481, 0.0],\n",
       " 'H11': [-2.1486, -1.2405, 0.0],\n",
       " 'H12': [-2.1486, 1.2405, 0.0]}"
      ]
     },
     "execution_count": 100,
     "metadata": {},
     "output_type": "execute_result"
    }
   ],
   "source": [
    "benzene_geo"
   ]
  },
  {
   "cell_type": "markdown",
   "id": "a3202ec6-7169-4661-8567-9aa9316a82b6",
   "metadata": {},
   "source": [
    "# Bond Length Calculation"
   ]
  },
  {
   "cell_type": "code",
   "execution_count": 101,
   "id": "d4d8bcdf-1e2a-47eb-99f5-39b35f3b2670",
   "metadata": {},
   "outputs": [],
   "source": [
    "import math\n",
    "import warnings\n",
    "def compute_bond_length(coord1, coord2):\n",
    "    \"\"\"\n",
    "    Computes the bond length between two atoms.\n",
    "\n",
    "    Parameters:\n",
    "        coord1: 1D array-like, cartesian coordinates of the first atom in angstroms\n",
    "        coord2: 1D array-like, cartesian coordinates of the second atom in angstroms, must be of the same length as coord1\n",
    "        \n",
    "    Returns:\n",
    "        The Euclidean distance between coord1 and coord2\n",
    "    \"\"\"\n",
    "    d = math.sqrt(sum([(comp1-comp2)**2 for comp1, comp2 in zip(coord1, coord2)]))\n",
    "    if (d >= 2):\n",
    "        warnings.warn(f\"The bond length of {d} angstroms is atypical for a covalent bond.\")\n",
    "    return d"
   ]
  },
  {
   "cell_type": "code",
   "execution_count": 102,
   "id": "55fe4ceb-4584-4c2d-bc72-3eef57acac12",
   "metadata": {},
   "outputs": [
    {
     "name": "stdout",
     "output_type": "stream",
     "text": [
      "0.9577755948028744\n",
      "1.4142135623730951\n",
      "5.196152422706632\n"
     ]
    },
    {
     "name": "stderr",
     "output_type": "stream",
     "text": [
      "C:\\Users\\repti\\AppData\\Local\\Temp\\ipykernel_29444\\233551919.py:16: UserWarning: The bond length of 5.196152422706632 angstroms is atypical for a covalent bond.\n",
      "  warnings.warn(f\"The bond length of {d} angstroms is atypical for a covalent bond.\")\n"
     ]
    }
   ],
   "source": [
    "# test\n",
    "print(compute_bond_length(H2O_geo['O1'], H2O_geo['H2']))\n",
    "print(compute_bond_length([0, 0], [1, 1])) # should be sqrt(2)\n",
    "print(compute_bond_length([0, 0, 0], [3, 3, 3])) # should print warning"
   ]
  },
  {
   "cell_type": "markdown",
   "id": "bb73d94d-3393-42c8-9fdc-2a53346ad24f",
   "metadata": {},
   "source": [
    "# Bond Angle Calculation\n",
    "*Note*: I am using the formula\n",
    "$$ cos\\theta = \\frac{\\vec{BA} \\cdot \\vec{BC}} {|\\vec{BA}||\\vec{BC}|} $$\n",
    "in calculating the angle using B as the vertex, which gives consistent results with regard to whether the angle is acute. The formula given in the instructions yields 180 subtracting what is visually perceived as the angle."
   ]
  },
  {
   "cell_type": "code",
   "execution_count": 103,
   "id": "8b682ff9-67cf-4b53-9596-df5e25be6331",
   "metadata": {},
   "outputs": [],
   "source": [
    "import numpy as np\n",
    "def compute_bond_angle(coord1, coord2, coord3, classify=True):\n",
    "    \"\"\"\n",
    "    Computes the bond angle between three atoms.\n",
    "    coord1 -- coord2\n",
    "                   |_\\\\\n",
    "                      \\\\\n",
    "                        coord3\n",
    "\n",
    "    Parameters:\n",
    "        coord1, coord2, coord3 must be of the same length\n",
    "        coord1: 1D array-like, cartesian coordinates of the first atom in angstroms\n",
    "        coord2: 1D array-like, cartesian coordinates of the second atom in angstroms\n",
    "        coord3: 1D array-like, cartesian coordinates of the third atom in angstroms\n",
    "        classify = True: if set to True, prints the angle and classify it as acute, right or obtuse\n",
    "    Returns:\n",
    "        The Euclidean distance between coord1 and coord2\n",
    "    \"\"\"\n",
    "    # put into arrays\n",
    "    A = np.array(coord1)\n",
    "    B = np.array(coord2)\n",
    "    C = np.array(coord3)\n",
    "    # calculate vectors\n",
    "    vec1 = A - B\n",
    "    vec2 = C - B\n",
    "    \n",
    "    numer = np.dot(vec1, vec2) # dot product\n",
    "    denom = np.linalg.norm(vec1) * np.linalg.norm(vec2) # norms multiplied\n",
    "    theta_rad = math.acos(numer / denom) # get theta in radians\n",
    "    theta_deg = theta_rad * 180 / math.pi # convert to degrees\n",
    "    if classify:\n",
    "        if theta_deg < 90:\n",
    "            print(f\"Acute angle of {theta_deg:.2f}\")\n",
    "        elif theta_deg > 90:\n",
    "            print(f\"Obtuse angle of {theta_deg:.2f}\")\n",
    "        else:\n",
    "            print(f\"Right angle of {theta_deg:.2f}\")\n",
    "    return theta_deg"
   ]
  },
  {
   "cell_type": "code",
   "execution_count": 104,
   "id": "3d4c8ffb-4403-45d8-a07d-2db51eb5207f",
   "metadata": {},
   "outputs": [
    {
     "name": "stdout",
     "output_type": "stream",
     "text": [
      "Right angle of 90.00\n",
      "Acute angle of 63.43\n",
      "Obtuse angle of 153.43\n"
     ]
    }
   ],
   "source": [
    "# tests\n",
    "compute_bond_angle([0,0,0], [1,0,0], [1,1,0]) # should be right angle\n",
    "compute_bond_angle([0,0], [1,0], [0.5, 1]) # should be acute\n",
    "compute_bond_angle([0,0], [1,0], [3,1]); # should be obtuse"
   ]
  },
  {
   "cell_type": "markdown",
   "id": "247da5d5-2a34-4923-ab55-146d3b3b38f5",
   "metadata": {},
   "source": [
    "# Automating the Calculation of Unique Bond Lengths and Angles"
   ]
  },
  {
   "cell_type": "markdown",
   "id": "2356be49-e370-4d69-bde2-67b45e85201e",
   "metadata": {},
   "source": [
    "## Calculating all unique bond lengths"
   ]
  },
  {
   "cell_type": "code",
   "execution_count": 105,
   "id": "d390891a-e132-4c66-92ed-f6f9d084eb70",
   "metadata": {},
   "outputs": [],
   "source": [
    "def calculate_all_bond_lengths(molecule, unique=True, bonds=[]):\n",
    "    \"\"\"\n",
    "    Calculates all unique bond lengths\n",
    "\n",
    "    Parameters:\n",
    "        molecule: a dictionary with atom names as keys and 1D array-like Cartesian coordinates as values\n",
    "        unique: whether duplicate bond lengths are ignored\n",
    "        bonds [list of sets of two atom names]: if supplied, only consider given bonds; otherwise treat any pair of atoms as a bond\n",
    "\n",
    "    Returns:\n",
    "        All unique bond lengths in a list\n",
    "    \"\"\"\n",
    "    consider_bonds = False\n",
    "    if len(bonds)!=0:\n",
    "        consider_bonds = True\n",
    "    keys = list(molecule.keys())\n",
    "    bond_lengths = []\n",
    "    for i in range(0, len(keys)): # loop over all atoms\n",
    "        atom1 = keys[i]\n",
    "        coord1 = molecule[atom1] # get the first coordinates\n",
    "        for j in range(i+1, len(keys)): # loop over all atoms after the ith one\n",
    "            atom2 = keys[j]\n",
    "            coord2 = molecule[atom2] # get the second coordinates\n",
    "            # if not bonded: ignore\n",
    "            if consider_bonds and set([atom1, atom2]) not in bonds:\n",
    "                continue\n",
    "            bond_length = compute_bond_length(coord1, coord2) # compute bond length\n",
    "            bond_lengths.append(np.round(bond_length, decimals=3)) # store in list\n",
    "    if unique:\n",
    "        bond_lengths = np.unique(bond_lengths)\n",
    "    print(f\"All {\"unique \" if unique else \"\"}bond lengths: {bond_lengths}\")\n",
    "    return bond_lengths"
   ]
  },
  {
   "cell_type": "code",
   "execution_count": 106,
   "id": "01703109-4f6a-47e9-a5e1-f49838234199",
   "metadata": {},
   "outputs": [],
   "source": [
    "benzene_bonds = [\n",
    "    set(['C1', 'C2']),\n",
    "    set(['C2', 'C3']),\n",
    "    set(['C3', 'C4']),\n",
    "    set(['C4', 'C5']),\n",
    "    set(['C5', 'C6']),\n",
    "    set(['C6', 'C1']),\n",
    "    set(['C1', 'H7']),\n",
    "    set(['C2', 'H8']),\n",
    "    set(['C3', 'H9']),\n",
    "    set(['C4', \"H10\"]),\n",
    "    set(['C5', 'H11']),\n",
    "    set(['C6', 'H12']),\n",
    "]"
   ]
  },
  {
   "cell_type": "code",
   "execution_count": 107,
   "id": "e52100dc-3d7a-4231-8c55-25ec12db9dc4",
   "metadata": {},
   "outputs": [],
   "source": [
    "H2O_bonds = [set(['O1', 'H2']), set(['O1', 'H3'])]"
   ]
  },
  {
   "cell_type": "code",
   "execution_count": 108,
   "id": "5d88d923-05ce-461d-a522-2c208b461ecc",
   "metadata": {
    "scrolled": true
   },
   "outputs": [
    {
     "name": "stdout",
     "output_type": "stream",
     "text": [
      "All unique bond lengths: [0.741]\n",
      "All unique bond lengths: [0.958]\n",
      "All unique bond lengths: [1.084 1.397]\n"
     ]
    }
   ],
   "source": [
    "# tests\n",
    "calculate_all_bond_lengths(H2_geo)\n",
    "calculate_all_bond_lengths(H2O_geo, bonds=H2O_bonds)\n",
    "calculate_all_bond_lengths(benzene_geo, bonds=benzene_bonds);"
   ]
  },
  {
   "cell_type": "code",
   "execution_count": 109,
   "id": "e0417ea6-5129-44a6-bb58-1f669001bbb2",
   "metadata": {
    "scrolled": true
   },
   "outputs": [
    {
     "name": "stdout",
     "output_type": "stream",
     "text": [
      "All bond lengths: [np.float64(1.397), np.float64(2.42), np.float64(2.794), np.float64(2.42), np.float64(1.397), np.float64(1.084), np.float64(2.154), np.float64(3.402), np.float64(3.878), np.float64(3.402), np.float64(2.154), np.float64(1.397), np.float64(2.42), np.float64(2.794), np.float64(2.42), np.float64(2.154), np.float64(1.084), np.float64(2.154), np.float64(3.402), np.float64(3.878), np.float64(3.402), np.float64(1.397), np.float64(2.42), np.float64(2.794), np.float64(3.402), np.float64(2.154), np.float64(1.084), np.float64(2.154), np.float64(3.402), np.float64(3.878), np.float64(1.397), np.float64(2.42), np.float64(3.878), np.float64(3.402), np.float64(2.154), np.float64(1.084), np.float64(2.154), np.float64(3.402), np.float64(1.397), np.float64(3.402), np.float64(3.878), np.float64(3.402), np.float64(2.154), np.float64(1.084), np.float64(2.154), np.float64(2.154), np.float64(3.402), np.float64(3.878), np.float64(3.402), np.float64(2.154), np.float64(1.084), np.float64(2.481), np.float64(4.297), np.float64(4.962), np.float64(4.297), np.float64(2.481), np.float64(2.481), np.float64(4.297), np.float64(4.962), np.float64(4.297), np.float64(2.481), np.float64(4.297), np.float64(4.962), np.float64(2.481), np.float64(4.297), np.float64(2.481)]\n"
     ]
    },
    {
     "name": "stderr",
     "output_type": "stream",
     "text": [
      "C:\\Users\\repti\\AppData\\Local\\Temp\\ipykernel_29444\\233551919.py:16: UserWarning: The bond length of 2.4196562338481056 angstroms is atypical for a covalent bond.\n",
      "  warnings.warn(f\"The bond length of {d} angstroms is atypical for a covalent bond.\")\n",
      "C:\\Users\\repti\\AppData\\Local\\Temp\\ipykernel_29444\\233551919.py:16: UserWarning: The bond length of 2.794 angstroms is atypical for a covalent bond.\n",
      "  warnings.warn(f\"The bond length of {d} angstroms is atypical for a covalent bond.\")\n",
      "C:\\Users\\repti\\AppData\\Local\\Temp\\ipykernel_29444\\233551919.py:16: UserWarning: The bond length of 2.1542920438046465 angstroms is atypical for a covalent bond.\n",
      "  warnings.warn(f\"The bond length of {d} angstroms is atypical for a covalent bond.\")\n",
      "C:\\Users\\repti\\AppData\\Local\\Temp\\ipykernel_29444\\233551919.py:16: UserWarning: The bond length of 3.4018947970212134 angstroms is atypical for a covalent bond.\n",
      "  warnings.warn(f\"The bond length of {d} angstroms is atypical for a covalent bond.\")\n",
      "C:\\Users\\repti\\AppData\\Local\\Temp\\ipykernel_29444\\233551919.py:16: UserWarning: The bond length of 3.878 angstroms is atypical for a covalent bond.\n",
      "  warnings.warn(f\"The bond length of {d} angstroms is atypical for a covalent bond.\")\n",
      "C:\\Users\\repti\\AppData\\Local\\Temp\\ipykernel_29444\\233551919.py:16: UserWarning: The bond length of 2.7939350672483427 angstroms is atypical for a covalent bond.\n",
      "  warnings.warn(f\"The bond length of {d} angstroms is atypical for a covalent bond.\")\n",
      "C:\\Users\\repti\\AppData\\Local\\Temp\\ipykernel_29444\\233551919.py:16: UserWarning: The bond length of 2.4196 angstroms is atypical for a covalent bond.\n",
      "  warnings.warn(f\"The bond length of {d} angstroms is atypical for a covalent bond.\")\n",
      "C:\\Users\\repti\\AppData\\Local\\Temp\\ipykernel_29444\\233551919.py:16: UserWarning: The bond length of 2.1542799934084704 angstroms is atypical for a covalent bond.\n",
      "  warnings.warn(f\"The bond length of {d} angstroms is atypical for a covalent bond.\")\n",
      "C:\\Users\\repti\\AppData\\Local\\Temp\\ipykernel_29444\\233551919.py:16: UserWarning: The bond length of 2.154313449802512 angstroms is atypical for a covalent bond.\n",
      "  warnings.warn(f\"The bond length of {d} angstroms is atypical for a covalent bond.\")\n",
      "C:\\Users\\repti\\AppData\\Local\\Temp\\ipykernel_29444\\233551919.py:16: UserWarning: The bond length of 3.401887165971264 angstroms is atypical for a covalent bond.\n",
      "  warnings.warn(f\"The bond length of {d} angstroms is atypical for a covalent bond.\")\n",
      "C:\\Users\\repti\\AppData\\Local\\Temp\\ipykernel_29444\\233551919.py:16: UserWarning: The bond length of 3.8779597161394035 angstroms is atypical for a covalent bond.\n",
      "  warnings.warn(f\"The bond length of {d} angstroms is atypical for a covalent bond.\")\n",
      "C:\\Users\\repti\\AppData\\Local\\Temp\\ipykernel_29444\\233551919.py:16: UserWarning: The bond length of 3.401854576550855 angstroms is atypical for a covalent bond.\n",
      "  warnings.warn(f\"The bond length of {d} angstroms is atypical for a covalent bond.\")\n",
      "C:\\Users\\repti\\AppData\\Local\\Temp\\ipykernel_29444\\233551919.py:16: UserWarning: The bond length of 2.4809921825753505 angstroms is atypical for a covalent bond.\n",
      "  warnings.warn(f\"The bond length of {d} angstroms is atypical for a covalent bond.\")\n",
      "C:\\Users\\repti\\AppData\\Local\\Temp\\ipykernel_29444\\233551919.py:16: UserWarning: The bond length of 4.297213540190899 angstroms is atypical for a covalent bond.\n",
      "  warnings.warn(f\"The bond length of {d} angstroms is atypical for a covalent bond.\")\n",
      "C:\\Users\\repti\\AppData\\Local\\Temp\\ipykernel_29444\\233551919.py:16: UserWarning: The bond length of 4.962 angstroms is atypical for a covalent bond.\n",
      "  warnings.warn(f\"The bond length of {d} angstroms is atypical for a covalent bond.\")\n",
      "C:\\Users\\repti\\AppData\\Local\\Temp\\ipykernel_29444\\233551919.py:16: UserWarning: The bond length of 2.481 angstroms is atypical for a covalent bond.\n",
      "  warnings.warn(f\"The bond length of {d} angstroms is atypical for a covalent bond.\")\n",
      "C:\\Users\\repti\\AppData\\Local\\Temp\\ipykernel_29444\\233551919.py:16: UserWarning: The bond length of 4.961984365150701 angstroms is atypical for a covalent bond.\n",
      "  warnings.warn(f\"The bond length of {d} angstroms is atypical for a covalent bond.\")\n",
      "C:\\Users\\repti\\AppData\\Local\\Temp\\ipykernel_29444\\233551919.py:16: UserWarning: The bond length of 4.2972 angstroms is atypical for a covalent bond.\n",
      "  warnings.warn(f\"The bond length of {d} angstroms is atypical for a covalent bond.\")\n"
     ]
    },
    {
     "data": {
      "text/plain": [
       "66"
      ]
     },
     "execution_count": 109,
     "metadata": {},
     "output_type": "execute_result"
    }
   ],
   "source": [
    "len(calculate_all_bond_lengths(benzene_geo, unique=False)) # should be 12 choose 2 = 12*11/2 = 66"
   ]
  },
  {
   "cell_type": "markdown",
   "id": "f79a58ba-cc47-4dd9-981e-79a2476eee67",
   "metadata": {},
   "source": [
    "## Calculating all unique bond angles"
   ]
  },
  {
   "cell_type": "code",
   "execution_count": 110,
   "id": "731cfe72-49af-4d68-b316-4209d28bf061",
   "metadata": {},
   "outputs": [],
   "source": [
    "def calculate_all_bond_angles(molecule, unique=True, bonds=[], ignore_order=True, debug=False):\n",
    "    \"\"\"\n",
    "    Calculates all unique bond angles\n",
    "\n",
    "    Parameters:\n",
    "        molecule: a dictionary with atom names as keys and 1D array-like Cartesian coordinates as values\n",
    "        unique = True: whether duplicate bond angles are ignored\n",
    "        bonds [list of sets of two atom names]: if supplied, only consider given bonds; otherwise treat any pair of atoms as a bond\n",
    "        ignore_order = True: if set to true, treat each three atoms consituting an angle as an unordered set and skip duplicate sets. If set to false, treat as an ordered set.\n",
    "        debug = False: sets debug mode, which will print the angle sequence along with its magnitude in degrees\n",
    "\n",
    "    Returns:\n",
    "        All unique bond angles in a list\n",
    "    \"\"\"\n",
    "    consider_bonds = False\n",
    "    if len(bonds)!=0:\n",
    "        consider_bonds = True\n",
    "    calculated = set() # record of already calculated pairs to avoid duplicates\n",
    "    bond_angles = []\n",
    "    for atom1, coord1 in molecule.items():\n",
    "        for atom2, coord2 in molecule.items():\n",
    "            if (atom1 == atom2):\n",
    "                continue # skip self calculation\n",
    "            for atom3, coord3 in molecule.items():\n",
    "                if atom1 == atom3 or atom2 == atom3:\n",
    "                    continue # skip self calculation\n",
    "                # if not two bonds: ignore\n",
    "                if consider_bonds and (set([atom1, atom2]) not in bonds or set([atom2, atom3]) not in bonds):\n",
    "                    continue\n",
    "                if ignore_order:\n",
    "                    this_angle = tuple(sorted([atom1, atom2, atom3])) # sorted so that same atoms produce the same sequence; cast to tuple so that it is hashable to store in a set\n",
    "                else:\n",
    "                    this_angle = (atom1, atom2, atom3) # different order considered non-duplicates\n",
    "                if this_angle in calculated: # if already recorded\n",
    "                    continue\n",
    "                \n",
    "                if debug:\n",
    "                    print(this_angle)\n",
    "                calculated.add(this_angle) # record this sequence\n",
    "                bond_angle = compute_bond_angle(coord1, coord2, coord3, classify=False) # calculate bond angle\n",
    "                bond_angles.append(np.round(bond_angle, decimals=3)) # store in list\n",
    "    if unique:\n",
    "        bond_angles = np.unique(bond_angles)\n",
    "    print(f\"All {\"unique \" if unique else \"\"}bond angles: {bond_angles}\")\n",
    "    return bond_angles"
   ]
  },
  {
   "cell_type": "code",
   "execution_count": 111,
   "id": "a5135876-235e-4bb2-9054-0c94e87005fe",
   "metadata": {},
   "outputs": [
    {
     "name": "stdout",
     "output_type": "stream",
     "text": [
      "('H2', 'O1', 'H3')\n",
      "('H3', 'O1', 'H2')\n",
      "All unique bond angles: [104.48]\n"
     ]
    }
   ],
   "source": [
    "# tests\n",
    "calculate_all_bond_angles(H2O_geo, bonds=H2O_bonds, ignore_order=False, debug=True);"
   ]
  },
  {
   "cell_type": "code",
   "execution_count": 112,
   "id": "9e2a675d-8ce3-4037-833e-a664000500f8",
   "metadata": {
    "scrolled": true
   },
   "outputs": [
    {
     "name": "stdout",
     "output_type": "stream",
     "text": [
      "All unique bond angles: []\n",
      "All unique bond angles: [104.48]\n",
      "All unique bond angles: [119.998 119.999 120.    120.001]\n"
     ]
    }
   ],
   "source": [
    "calculate_all_bond_angles(H2_geo)\n",
    "calculate_all_bond_angles(H2O_geo, bonds=H2O_bonds)\n",
    "calculate_all_bond_angles(benzene_geo, bonds=benzene_bonds);"
   ]
  },
  {
   "cell_type": "code",
   "execution_count": 113,
   "id": "5f713bc8-1e25-4cf5-8069-d51dc6d5c28d",
   "metadata": {
    "scrolled": true
   },
   "outputs": [
    {
     "name": "stdout",
     "output_type": "stream",
     "text": [
      "All bond angles: [np.float64(120.001), np.float64(90.002), np.float64(60.002), np.float64(30.001), np.float64(25.834), np.float64(120.0), np.float64(145.836), np.float64(99.169), np.float64(60.001), np.float64(20.833), np.float64(90.002), np.float64(60.001), np.float64(30.0), np.float64(9.167), np.float64(55.834), np.float64(149.998), np.float64(115.836), np.float64(69.168), np.float64(30.0), np.float64(59.999), np.float64(29.999), np.float64(0.0), np.float64(39.167), np.float64(85.834), np.float64(180.0), np.float64(85.834), np.float64(39.167), np.float64(29.999), np.float64(9.167), np.float64(30.0), np.float64(69.168), np.float64(115.836), np.float64(149.998), np.float64(55.834), np.float64(25.834), np.float64(20.833), np.float64(60.001), np.float64(99.169), np.float64(145.836), np.float64(120.0), np.float64(60.0), np.float64(30.0), np.float64(0.0), np.float64(30.0), np.float64(60.0), np.float64(94.166), np.float64(64.166), np.float64(34.166), np.float64(4.166), np.float64(80.833), np.float64(50.833), np.float64(20.832), np.float64(60.0), np.float64(30.0), np.float64(39.167), np.float64(120.001), np.float64(90.0), np.float64(59.999), np.float64(20.832), np.float64(25.835), np.float64(119.999), np.float64(145.835), np.float64(99.168), np.float64(60.0), np.float64(89.998), np.float64(59.998), np.float64(29.999), np.float64(9.168), np.float64(55.835), np.float64(150.001), np.float64(115.833), np.float64(69.167), np.float64(59.999), np.float64(39.167), np.float64(0.0), np.float64(39.168), np.float64(85.836), np.float64(179.998), np.float64(85.834), np.float64(55.835), np.float64(9.168), np.float64(30.0), np.float64(69.168), np.float64(115.835), np.float64(150.001), np.float64(25.835), np.float64(4.165), np.float64(34.165), np.float64(64.165), np.float64(94.165), np.float64(60.001), np.float64(30.001), np.float64(0.001), np.float64(29.999), np.float64(94.165), np.float64(64.165), np.float64(34.165), np.float64(80.832), np.float64(50.832), np.float64(60.0), np.float64(119.998), np.float64(89.998), np.float64(59.999), np.float64(20.832), np.float64(25.835), np.float64(120.001), np.float64(145.833), np.float64(99.167), np.float64(90.0), np.float64(69.168), np.float64(30.0), np.float64(9.168), np.float64(55.835), np.float64(150.001), np.float64(115.835), np.float64(85.836), np.float64(39.168), np.float64(0.0), np.float64(39.167), np.float64(85.834), np.float64(179.998), np.float64(39.168), np.float64(9.168), np.float64(20.832), np.float64(50.832), np.float64(80.832), np.float64(25.835), np.float64(4.165), np.float64(34.165), np.float64(64.165), np.float64(59.999), np.float64(29.999), np.float64(0.001), np.float64(94.165), np.float64(64.165), np.float64(80.832), np.float64(120.001), np.float64(99.169), np.float64(60.001), np.float64(20.833), np.float64(25.834), np.float64(120.0), np.float64(145.836), np.float64(115.836), np.float64(69.168), np.float64(30.0), np.float64(9.167), np.float64(55.834), np.float64(149.998), np.float64(60.0), np.float64(30.0), np.float64(0.0), np.float64(30.0), np.float64(60.0), np.float64(39.167), np.float64(9.168), np.float64(20.832), np.float64(50.833), np.float64(25.834), np.float64(4.166), np.float64(34.166), np.float64(60.0), np.float64(30.0), np.float64(94.166), np.float64(145.835), np.float64(99.168), np.float64(60.0), np.float64(20.832), np.float64(25.835), np.float64(119.999), np.float64(80.832), np.float64(50.832), np.float64(20.832), np.float64(9.168), np.float64(39.168), np.float64(60.0), np.float64(30.0), np.float64(0.0), np.float64(30.0), np.float64(39.168), np.float64(9.168), np.float64(20.832), np.float64(25.835), np.float64(4.165), np.float64(60.001), np.float64(94.165), np.float64(64.165), np.float64(34.165), np.float64(4.165), np.float64(25.835), np.float64(80.832), np.float64(50.832), np.float64(20.832), np.float64(9.168), np.float64(60.0), np.float64(30.0), np.float64(0.0), np.float64(39.168), np.float64(9.168), np.float64(25.835), np.float64(120.0), np.float64(90.0), np.float64(60.0), np.float64(30.0), np.float64(90.0), np.float64(60.0), np.float64(30.0), np.float64(60.0), np.float64(30.0), np.float64(30.0), np.float64(120.0), np.float64(90.0), np.float64(60.0), np.float64(90.0), np.float64(60.0), np.float64(60.0), np.float64(120.0), np.float64(90.0), np.float64(90.0), np.float64(120.0)]\n"
     ]
    },
    {
     "data": {
      "text/plain": [
       "220"
      ]
     },
     "execution_count": 113,
     "metadata": {},
     "output_type": "execute_result"
    }
   ],
   "source": [
    "len(calculate_all_bond_angles(benzene_geo, unique=False)) # should be 12 choose 3 = 12*11*10/(3*2) = 220"
   ]
  },
  {
   "cell_type": "code",
   "execution_count": 114,
   "id": "1fb933d4-9674-48a2-9b79-bbbde7ef44d2",
   "metadata": {
    "scrolled": true
   },
   "outputs": [
    {
     "name": "stdout",
     "output_type": "stream",
     "text": [
      "All bond angles: [np.float64(120.001), np.float64(90.002), np.float64(60.002), np.float64(30.001), np.float64(25.834), np.float64(120.0), np.float64(145.836), np.float64(99.169), np.float64(60.001), np.float64(20.833), np.float64(29.999), np.float64(90.002), np.float64(60.001), np.float64(30.0), np.float64(9.167), np.float64(55.834), np.float64(149.998), np.float64(115.836), np.float64(69.168), np.float64(30.0), np.float64(29.999), np.float64(59.999), np.float64(59.999), np.float64(29.999), np.float64(0.0), np.float64(39.167), np.float64(85.834), np.float64(180.0), np.float64(85.834), np.float64(39.167), np.float64(30.0), np.float64(60.001), np.float64(90.002), np.float64(29.999), np.float64(9.167), np.float64(30.0), np.float64(69.168), np.float64(115.836), np.float64(149.998), np.float64(55.834), np.float64(30.001), np.float64(60.002), np.float64(90.002), np.float64(120.001), np.float64(25.834), np.float64(20.833), np.float64(60.001), np.float64(99.169), np.float64(145.836), np.float64(120.0), np.float64(34.165), np.float64(20.832), np.float64(0.0), np.float64(20.832), np.float64(34.165), np.float64(60.0), np.float64(30.0), np.float64(0.0), np.float64(30.0), np.float64(60.0), np.float64(34.165), np.float64(68.331), np.float64(54.998), np.float64(34.166), np.float64(13.334), np.float64(25.834), np.float64(94.166), np.float64(64.166), np.float64(34.166), np.float64(4.166), np.float64(13.333), np.float64(20.833), np.float64(54.998), np.float64(41.665), np.float64(20.832), np.float64(9.168), np.float64(39.167), np.float64(80.833), np.float64(50.833), np.float64(20.832), np.float64(20.832), np.float64(34.165), np.float64(0.0), np.float64(34.165), np.float64(20.832), np.float64(0.0), np.float64(30.0), np.float64(60.0), np.float64(60.0), np.float64(30.0), np.float64(20.832), np.float64(41.665), np.float64(54.998), np.float64(20.833), np.float64(13.333), np.float64(9.168), np.float64(20.832), np.float64(50.833), np.float64(80.833), np.float64(39.167), np.float64(13.334), np.float64(34.166), np.float64(54.998), np.float64(68.331), np.float64(34.165), np.float64(25.834), np.float64(4.166), np.float64(34.166), np.float64(64.166), np.float64(94.166), np.float64(30.0), np.float64(59.999), np.float64(89.998), np.float64(119.998), np.float64(120.001), np.float64(25.835), np.float64(20.832), np.float64(59.999), np.float64(99.167), np.float64(145.833), np.float64(29.999), np.float64(120.001), np.float64(90.0), np.float64(59.999), np.float64(20.832), np.float64(25.835), np.float64(119.999), np.float64(145.835), np.float64(99.168), np.float64(60.0), np.float64(29.999), np.float64(30.0), np.float64(89.998), np.float64(59.998), np.float64(29.999), np.float64(9.168), np.float64(55.835), np.float64(150.001), np.float64(115.833), np.float64(69.167), np.float64(30.0), np.float64(30.001), np.float64(60.002), np.float64(59.999), np.float64(39.167), np.float64(0.0), np.float64(39.168), np.float64(85.836), np.float64(179.998), np.float64(85.834), np.float64(30.001), np.float64(30.001), np.float64(60.001), np.float64(90.0), np.float64(55.835), np.float64(9.168), np.float64(30.0), np.float64(69.168), np.float64(115.835), np.float64(150.001), np.float64(34.165), np.float64(13.333), np.float64(34.165), np.float64(54.997), np.float64(68.33), np.float64(25.835), np.float64(4.165), np.float64(34.165), np.float64(64.165), np.float64(94.165), np.float64(34.165), np.float64(34.166), np.float64(20.833), np.float64(0.001), np.float64(20.832), np.float64(59.999), np.float64(60.001), np.float64(30.001), np.float64(0.001), np.float64(29.999), np.float64(13.333), np.float64(34.166), np.float64(68.331), np.float64(54.998), np.float64(34.165), np.float64(4.165), np.float64(25.835), np.float64(94.165), np.float64(64.165), np.float64(34.165), np.float64(20.832), np.float64(13.333), np.float64(20.832), np.float64(54.997), np.float64(41.664), np.float64(20.832), np.float64(9.168), np.float64(39.168), np.float64(80.832), np.float64(50.832), np.float64(20.832), np.float64(20.833), np.float64(34.166), np.float64(0.001), np.float64(34.165), np.float64(30.0), np.float64(0.0), np.float64(30.0), np.float64(60.0), np.float64(60.0), np.float64(13.334), np.float64(20.833), np.float64(41.665), np.float64(54.998), np.float64(20.832), np.float64(39.168), np.float64(9.168), np.float64(20.832), np.float64(50.832), np.float64(80.832), np.float64(30.0), np.float64(29.999), np.float64(59.998), np.float64(89.998), np.float64(150.001), np.float64(55.835), np.float64(9.168), np.float64(29.999), np.float64(69.167), np.float64(115.833), np.float64(120.001), np.float64(29.999), np.float64(59.999), np.float64(90.0), np.float64(145.835), np.float64(119.999), np.float64(25.835), np.float64(20.832), np.float64(60.0), np.float64(99.168), np.float64(59.999), np.float64(30.0), np.float64(119.998), np.float64(89.998), np.float64(59.999), np.float64(20.832), np.float64(25.835), np.float64(120.001), np.float64(145.833), np.float64(99.167), np.float64(60.001), np.float64(30.001), np.float64(30.001), np.float64(90.0), np.float64(69.168), np.float64(30.0), np.float64(9.168), np.float64(55.835), np.float64(150.001), np.float64(115.835), np.float64(60.002), np.float64(30.001), np.float64(30.0), np.float64(59.999), np.float64(85.836), np.float64(39.168), np.float64(0.0), np.float64(39.167), np.float64(85.834), np.float64(179.998), np.float64(20.832), np.float64(13.333), np.float64(20.832), np.float64(41.664), np.float64(54.997), np.float64(39.168), np.float64(9.168), np.float64(20.832), np.float64(50.832), np.float64(80.832), np.float64(68.331), np.float64(34.166), np.float64(13.333), np.float64(34.165), np.float64(54.998), np.float64(94.165), np.float64(25.835), np.float64(4.165), np.float64(34.165), np.float64(64.165), np.float64(20.833), np.float64(34.166), np.float64(34.165), np.float64(20.832), np.float64(0.001), np.float64(30.001), np.float64(60.001), np.float64(59.999), np.float64(29.999), np.float64(0.001), np.float64(34.165), np.float64(13.333), np.float64(34.165), np.float64(68.33), np.float64(54.997), np.float64(34.165), np.float64(4.165), np.float64(25.835), np.float64(94.165), np.float64(64.165), np.float64(41.665), np.float64(20.833), np.float64(13.334), np.float64(20.832), np.float64(54.998), np.float64(50.832), np.float64(20.832), np.float64(9.168), np.float64(39.168), np.float64(80.832), np.float64(34.166), np.float64(20.833), np.float64(20.832), np.float64(34.165), np.float64(0.001), np.float64(60.0), np.float64(30.0), np.float64(0.0), np.float64(30.0), np.float64(60.0), np.float64(59.999), np.float64(29.999), np.float64(29.999), np.float64(59.999), np.float64(180.0), np.float64(85.834), np.float64(39.167), np.float64(0.0), np.float64(39.167), np.float64(85.834), np.float64(90.002), np.float64(29.999), np.float64(30.0), np.float64(60.001), np.float64(115.836), np.float64(149.998), np.float64(55.834), np.float64(9.167), np.float64(30.0), np.float64(69.168), np.float64(90.002), np.float64(120.001), np.float64(30.001), np.float64(60.002), np.float64(99.169), np.float64(145.836), np.float64(120.0), np.float64(25.834), np.float64(20.833), np.float64(60.001), np.float64(90.002), np.float64(60.002), np.float64(30.001), np.float64(120.001), np.float64(99.169), np.float64(60.001), np.float64(20.833), np.float64(25.834), np.float64(120.0), np.float64(145.836), np.float64(90.002), np.float64(60.001), np.float64(30.0), np.float64(29.999), np.float64(115.836), np.float64(69.168), np.float64(30.0), np.float64(9.167), np.float64(55.834), np.float64(149.998), np.float64(0.0), np.float64(34.165), np.float64(20.832), np.float64(20.832), np.float64(34.165), np.float64(60.0), np.float64(30.0), np.float64(0.0), np.float64(30.0), np.float64(60.0), np.float64(54.998), np.float64(20.833), np.float64(13.333), np.float64(20.832), np.float64(41.665), np.float64(80.833), np.float64(39.167), np.float64(9.168), np.float64(20.832), np.float64(50.833), np.float64(54.998), np.float64(68.331), np.float64(34.165), np.float64(13.334), np.float64(34.166), np.float64(64.166), np.float64(94.166), np.float64(25.834), np.float64(4.166), np.float64(34.166), np.float64(0.0), np.float64(20.832), np.float64(34.165), np.float64(34.165), np.float64(20.832), np.float64(0.0), np.float64(30.0), np.float64(60.0), np.float64(60.0), np.float64(30.0), np.float64(54.998), np.float64(34.166), np.float64(13.334), np.float64(34.165), np.float64(68.331), np.float64(64.166), np.float64(34.166), np.float64(4.166), np.float64(25.834), np.float64(94.166), np.float64(54.998), np.float64(41.665), np.float64(20.832), np.float64(13.333), np.float64(20.833), np.float64(80.833), np.float64(50.833), np.float64(20.832), np.float64(9.168), np.float64(39.167), np.float64(89.998), np.float64(59.998), np.float64(29.999), np.float64(30.0), np.float64(150.001), np.float64(115.833), np.float64(69.167), np.float64(29.999), np.float64(9.168), np.float64(55.835), np.float64(60.002), np.float64(59.999), np.float64(30.0), np.float64(30.001), np.float64(85.836), np.float64(179.998), np.float64(85.834), np.float64(39.167), np.float64(0.0), np.float64(39.168), np.float64(60.001), np.float64(90.0), np.float64(30.001), np.float64(30.001), np.float64(69.168), np.float64(115.835), np.float64(150.001), np.float64(55.835), np.float64(9.168), np.float64(30.0), np.float64(59.999), np.float64(89.998), np.float64(119.998), np.float64(30.0), np.float64(59.999), np.float64(99.167), np.float64(145.833), np.float64(120.001), np.float64(25.835), np.float64(20.832), np.float64(120.001), np.float64(90.0), np.float64(59.999), np.float64(29.999), np.float64(145.835), np.float64(99.168), np.float64(60.0), np.float64(20.832), np.float64(25.835), np.float64(119.999), np.float64(20.832), np.float64(54.997), np.float64(41.664), np.float64(20.832), np.float64(13.333), np.float64(80.832), np.float64(50.832), np.float64(20.832), np.float64(9.168), np.float64(39.168), np.float64(34.166), np.float64(0.001), np.float64(34.165), np.float64(20.832), np.float64(20.833), np.float64(60.0), np.float64(60.0), np.float64(30.0), np.float64(0.0), np.float64(30.0), np.float64(41.665), np.float64(54.998), np.float64(20.832), np.float64(13.334), np.float64(20.833), np.float64(50.832), np.float64(80.832), np.float64(39.168), np.float64(9.168), np.float64(20.832), np.float64(34.165), np.float64(54.997), np.float64(68.33), np.float64(34.165), np.float64(13.333), np.float64(34.165), np.float64(64.165), np.float64(94.165), np.float64(25.835), np.float64(4.165), np.float64(20.833), np.float64(0.001), np.float64(20.832), np.float64(34.165), np.float64(34.166), np.float64(30.001), np.float64(0.001), np.float64(29.999), np.float64(59.999), np.float64(60.001), np.float64(68.331), np.float64(54.998), np.float64(34.165), np.float64(13.333), np.float64(34.166), np.float64(94.165), np.float64(64.165), np.float64(34.165), np.float64(4.165), np.float64(25.835), np.float64(119.998), np.float64(89.998), np.float64(59.999), np.float64(30.0), np.float64(120.001), np.float64(145.833), np.float64(99.167), np.float64(59.999), np.float64(20.832), np.float64(25.835), np.float64(30.001), np.float64(90.0), np.float64(60.001), np.float64(30.001), np.float64(55.835), np.float64(150.001), np.float64(115.835), np.float64(69.168), np.float64(30.0), np.float64(9.168), np.float64(30.0), np.float64(59.999), np.float64(60.002), np.float64(30.001), np.float64(39.167), np.float64(85.834), np.float64(179.998), np.float64(85.836), np.float64(39.168), np.float64(0.0), np.float64(29.999), np.float64(59.998), np.float64(89.998), np.float64(30.0), np.float64(29.999), np.float64(69.167), np.float64(115.833), np.float64(150.001), np.float64(55.835), np.float64(9.168), np.float64(29.999), np.float64(59.999), np.float64(90.0), np.float64(120.001), np.float64(20.832), np.float64(60.0), np.float64(99.168), np.float64(145.835), np.float64(119.999), np.float64(25.835), np.float64(34.165), np.float64(68.33), np.float64(54.997), np.float64(34.165), np.float64(13.333), np.float64(94.165), np.float64(64.165), np.float64(34.165), np.float64(4.165), np.float64(25.835), np.float64(13.334), np.float64(20.832), np.float64(54.998), np.float64(41.665), np.float64(20.833), np.float64(39.168), np.float64(80.832), np.float64(50.832), np.float64(20.832), np.float64(9.168), np.float64(20.832), np.float64(34.165), np.float64(0.001), np.float64(34.166), np.float64(20.833), np.float64(30.0), np.float64(60.0), np.float64(60.0), np.float64(30.0), np.float64(0.0), np.float64(20.832), np.float64(41.664), np.float64(54.997), np.float64(20.832), np.float64(13.333), np.float64(20.832), np.float64(50.832), np.float64(80.832), np.float64(39.168), np.float64(9.168), np.float64(13.333), np.float64(34.165), np.float64(54.998), np.float64(68.331), np.float64(34.166), np.float64(4.165), np.float64(34.165), np.float64(64.165), np.float64(94.165), np.float64(25.835), np.float64(34.165), np.float64(20.832), np.float64(0.001), np.float64(20.833), np.float64(34.166), np.float64(59.999), np.float64(29.999), np.float64(0.001), np.float64(30.001), np.float64(60.001), np.float64(120.001), np.float64(150.001), np.float64(180.0), np.float64(150.001), np.float64(120.001), np.float64(94.166), np.float64(140.833), np.float64(180.0), np.float64(140.833), np.float64(94.166), np.float64(25.834), np.float64(145.835), np.float64(115.836), np.float64(85.836), np.float64(55.835), np.float64(94.166), np.float64(171.67), np.float64(125.003), np.float64(85.835), np.float64(46.667), np.float64(9.167), np.float64(20.832), np.float64(99.169), np.float64(69.168), np.float64(39.167), np.float64(46.667), np.float64(140.831), np.float64(125.003), np.float64(78.336), np.float64(39.168), np.float64(0.0), np.float64(29.999), np.float64(59.999), np.float64(59.999), np.float64(29.999), np.float64(39.167), np.float64(85.834), np.float64(180.0), np.float64(85.834), np.float64(39.167), np.float64(9.167), np.float64(39.167), np.float64(69.168), np.float64(99.169), np.float64(20.832), np.float64(39.168), np.float64(78.336), np.float64(125.003), np.float64(140.831), np.float64(46.667), np.float64(25.834), np.float64(55.835), np.float64(85.836), np.float64(115.836), np.float64(145.835), np.float64(46.667), np.float64(85.835), np.float64(125.003), np.float64(171.67), np.float64(94.166), np.float64(25.834), np.float64(59.999), np.float64(94.165), np.float64(80.833), np.float64(60.0), np.float64(39.168), np.float64(120.0), np.float64(90.0), np.float64(60.0), np.float64(30.0), np.float64(9.168), np.float64(4.165), np.float64(30.001), np.float64(64.166), np.float64(50.832), np.float64(30.0), np.float64(30.0), np.float64(90.0), np.float64(60.0), np.float64(30.0), np.float64(0.0), np.float64(20.832), np.float64(34.165), np.float64(0.0), np.float64(34.165), np.float64(20.832), np.float64(30.0), np.float64(60.0), np.float64(60.0), np.float64(30.0), np.float64(9.168), np.float64(30.0), np.float64(50.832), np.float64(64.166), np.float64(30.001), np.float64(4.165), np.float64(30.0), np.float64(60.0), np.float64(90.0), np.float64(30.0), np.float64(25.834), np.float64(39.168), np.float64(60.0), np.float64(80.833), np.float64(94.165), np.float64(59.999), np.float64(30.0), np.float64(60.0), np.float64(90.0), np.float64(120.0), np.float64(25.835), np.float64(55.835), np.float64(85.834), np.float64(115.833), np.float64(145.833), np.float64(94.166), np.float64(46.667), np.float64(85.834), np.float64(125.002), np.float64(171.668), np.float64(120.0), np.float64(119.999), np.float64(149.998), np.float64(179.998), np.float64(150.001), np.float64(94.166), np.float64(94.165), np.float64(140.831), np.float64(179.999), np.float64(140.833), np.float64(55.834), np.float64(25.835), np.float64(145.836), np.float64(115.835), np.float64(85.834), np.float64(46.667), np.float64(94.165), np.float64(171.67), np.float64(125.002), np.float64(85.834), np.float64(39.167), np.float64(9.168), np.float64(20.832), np.float64(99.167), np.float64(69.167), np.float64(39.167), np.float64(46.667), np.float64(140.833), np.float64(125.002), np.float64(78.335), np.float64(30.0), np.float64(0.0), np.float64(30.0), np.float64(60.001), np.float64(60.0), np.float64(39.168), np.float64(39.168), np.float64(85.835), np.float64(179.999), np.float64(85.834), np.float64(20.833), np.float64(9.168), np.float64(39.168), np.float64(69.168), np.float64(99.168), np.float64(46.667), np.float64(39.168), np.float64(78.336), np.float64(125.002), np.float64(140.833), np.float64(60.0), np.float64(25.835), np.float64(39.168), np.float64(60.0), np.float64(80.832), np.float64(94.165), np.float64(30.0), np.float64(60.0), np.float64(90.0), np.float64(120.0), np.float64(39.167), np.float64(25.835), np.float64(60.001), np.float64(94.166), np.float64(80.832), np.float64(60.0), np.float64(30.0), np.float64(120.0), np.float64(90.0), np.float64(60.0), np.float64(30.0), np.float64(9.168), np.float64(4.165), np.float64(30.0), np.float64(64.165), np.float64(50.832), np.float64(30.0), np.float64(30.0), np.float64(90.0), np.float64(60.0), np.float64(20.832), np.float64(0.0), np.float64(20.832), np.float64(34.166), np.float64(0.001), np.float64(34.165), np.float64(30.0), np.float64(30.0), np.float64(60.0), np.float64(60.0), np.float64(4.166), np.float64(9.168), np.float64(30.0), np.float64(50.833), np.float64(64.165), np.float64(29.999), np.float64(30.0), np.float64(30.0), np.float64(60.0), np.float64(90.0), np.float64(20.832), np.float64(9.168), np.float64(39.167), np.float64(69.167), np.float64(99.167), np.float64(140.833), np.float64(46.667), np.float64(39.167), np.float64(78.335), np.float64(125.002), np.float64(145.836), np.float64(25.835), np.float64(55.834), np.float64(85.834), np.float64(115.835), np.float64(171.67), np.float64(94.165), np.float64(46.667), np.float64(85.834), np.float64(125.002), np.float64(149.998), np.float64(119.999), np.float64(120.0), np.float64(150.001), np.float64(179.998), np.float64(140.831), np.float64(94.165), np.float64(94.166), np.float64(140.833), np.float64(179.999), np.float64(85.834), np.float64(55.835), np.float64(25.835), np.float64(145.833), np.float64(115.833), np.float64(85.834), np.float64(46.667), np.float64(94.166), np.float64(171.668), np.float64(125.002), np.float64(69.168), np.float64(39.168), np.float64(9.168), np.float64(20.833), np.float64(99.168), np.float64(78.336), np.float64(39.168), np.float64(46.667), np.float64(140.833), np.float64(125.002), np.float64(60.001), np.float64(30.0), np.float64(0.0), np.float64(30.0), np.float64(60.0), np.float64(85.835), np.float64(39.168), np.float64(39.168), np.float64(85.834), np.float64(179.999), np.float64(30.0), np.float64(4.165), np.float64(9.168), np.float64(30.0), np.float64(50.832), np.float64(64.165), np.float64(30.0), np.float64(30.0), np.float64(60.0), np.float64(90.0), np.float64(94.166), np.float64(60.001), np.float64(25.835), np.float64(39.167), np.float64(60.0), np.float64(80.832), np.float64(120.0), np.float64(30.0), np.float64(60.0), np.float64(90.0), np.float64(60.0), np.float64(39.168), np.float64(25.835), np.float64(60.0), np.float64(94.165), np.float64(80.832), np.float64(60.0), np.float64(30.0), np.float64(120.0), np.float64(90.0), np.float64(50.833), np.float64(30.0), np.float64(9.168), np.float64(4.166), np.float64(29.999), np.float64(64.165), np.float64(60.0), np.float64(30.0), np.float64(30.0), np.float64(90.0), np.float64(34.166), np.float64(20.832), np.float64(0.0), np.float64(20.832), np.float64(34.165), np.float64(0.001), np.float64(60.0), np.float64(30.0), np.float64(30.0), np.float64(60.0), np.float64(59.999), np.float64(29.999), np.float64(0.0), np.float64(29.999), np.float64(59.999), np.float64(180.0), np.float64(85.834), np.float64(39.167), np.float64(39.167), np.float64(85.834), np.float64(99.169), np.float64(20.832), np.float64(9.167), np.float64(39.167), np.float64(69.168), np.float64(125.003), np.float64(140.831), np.float64(46.667), np.float64(39.168), np.float64(78.336), np.float64(115.836), np.float64(145.835), np.float64(25.834), np.float64(55.835), np.float64(85.836), np.float64(125.003), np.float64(171.67), np.float64(94.166), np.float64(46.667), np.float64(85.835), np.float64(180.0), np.float64(150.001), np.float64(120.001), np.float64(120.001), np.float64(150.001), np.float64(180.0), np.float64(140.833), np.float64(94.166), np.float64(94.166), np.float64(140.833), np.float64(115.836), np.float64(85.836), np.float64(55.835), np.float64(25.834), np.float64(145.835), np.float64(125.003), np.float64(85.835), np.float64(46.667), np.float64(94.166), np.float64(171.67), np.float64(99.169), np.float64(69.168), np.float64(39.167), np.float64(9.167), np.float64(20.832), np.float64(125.003), np.float64(78.336), np.float64(39.168), np.float64(46.667), np.float64(140.831), np.float64(0.0), np.float64(34.165), np.float64(20.832), np.float64(0.0), np.float64(20.832), np.float64(34.165), np.float64(60.0), np.float64(30.0), np.float64(30.0), np.float64(60.0), np.float64(64.166), np.float64(30.001), np.float64(4.165), np.float64(9.168), np.float64(30.0), np.float64(50.832), np.float64(90.0), np.float64(30.0), np.float64(30.0), np.float64(60.0), np.float64(80.833), np.float64(94.165), np.float64(59.999), np.float64(25.834), np.float64(39.168), np.float64(60.0), np.float64(90.0), np.float64(120.0), np.float64(30.0), np.float64(60.0), np.float64(80.833), np.float64(60.0), np.float64(39.168), np.float64(25.834), np.float64(59.999), np.float64(94.165), np.float64(90.0), np.float64(60.0), np.float64(30.0), np.float64(120.0), np.float64(64.166), np.float64(50.832), np.float64(30.0), np.float64(9.168), np.float64(4.165), np.float64(30.001), np.float64(90.0), np.float64(60.0), np.float64(30.0), np.float64(30.0), np.float64(99.167), np.float64(69.167), np.float64(39.167), np.float64(9.168), np.float64(20.832), np.float64(140.833), np.float64(125.002), np.float64(78.335), np.float64(39.167), np.float64(46.667), np.float64(60.001), np.float64(60.0), np.float64(30.0), np.float64(0.0), np.float64(30.0), np.float64(85.835), np.float64(179.999), np.float64(85.834), np.float64(39.168), np.float64(39.168), np.float64(69.168), np.float64(99.168), np.float64(20.833), np.float64(9.168), np.float64(39.168), np.float64(78.336), np.float64(125.002), np.float64(140.833), np.float64(46.667), np.float64(39.168), np.float64(85.834), np.float64(115.833), np.float64(145.833), np.float64(25.835), np.float64(55.835), np.float64(85.834), np.float64(125.002), np.float64(171.668), np.float64(94.166), np.float64(46.667), np.float64(149.998), np.float64(179.998), np.float64(150.001), np.float64(120.0), np.float64(119.999), np.float64(140.831), np.float64(179.999), np.float64(140.833), np.float64(94.166), np.float64(94.165), np.float64(145.836), np.float64(115.835), np.float64(85.834), np.float64(55.834), np.float64(25.835), np.float64(171.67), np.float64(125.002), np.float64(85.834), np.float64(46.667), np.float64(94.165), np.float64(30.0), np.float64(64.165), np.float64(50.832), np.float64(30.0), np.float64(9.168), np.float64(4.165), np.float64(90.0), np.float64(60.0), np.float64(30.0), np.float64(30.0), np.float64(34.166), np.float64(0.001), np.float64(34.165), np.float64(20.832), np.float64(0.0), np.float64(20.832), np.float64(60.0), np.float64(60.0), np.float64(30.0), np.float64(30.0), np.float64(50.833), np.float64(64.165), np.float64(29.999), np.float64(4.166), np.float64(9.168), np.float64(30.0), np.float64(60.0), np.float64(90.0), np.float64(30.0), np.float64(30.0), np.float64(60.0), np.float64(80.832), np.float64(94.165), np.float64(60.0), np.float64(25.835), np.float64(39.168), np.float64(60.0), np.float64(90.0), np.float64(120.0), np.float64(30.0), np.float64(94.166), np.float64(80.832), np.float64(60.0), np.float64(39.167), np.float64(25.835), np.float64(60.001), np.float64(120.0), np.float64(90.0), np.float64(60.0), np.float64(30.0), np.float64(145.833), np.float64(115.833), np.float64(85.834), np.float64(55.835), np.float64(25.835), np.float64(94.166), np.float64(171.668), np.float64(125.002), np.float64(85.834), np.float64(46.667), np.float64(20.833), np.float64(99.168), np.float64(69.168), np.float64(39.168), np.float64(9.168), np.float64(46.667), np.float64(140.833), np.float64(125.002), np.float64(78.336), np.float64(39.168), np.float64(30.0), np.float64(60.0), np.float64(60.001), np.float64(30.0), np.float64(0.0), np.float64(39.168), np.float64(85.834), np.float64(179.999), np.float64(85.835), np.float64(39.168), np.float64(39.167), np.float64(69.167), np.float64(99.167), np.float64(20.832), np.float64(9.168), np.float64(39.167), np.float64(78.335), np.float64(125.002), np.float64(140.833), np.float64(46.667), np.float64(55.834), np.float64(85.834), np.float64(115.835), np.float64(145.836), np.float64(25.835), np.float64(46.667), np.float64(85.834), np.float64(125.002), np.float64(171.67), np.float64(94.165), np.float64(120.0), np.float64(150.001), np.float64(179.998), np.float64(149.998), np.float64(119.999), np.float64(94.166), np.float64(140.833), np.float64(179.999), np.float64(140.831), np.float64(94.165), np.float64(60.0), np.float64(94.165), np.float64(80.832), np.float64(60.0), np.float64(39.168), np.float64(25.835), np.float64(120.0), np.float64(90.0), np.float64(60.0), np.float64(30.0), np.float64(4.166), np.float64(29.999), np.float64(64.165), np.float64(50.833), np.float64(30.0), np.float64(9.168), np.float64(30.0), np.float64(90.0), np.float64(60.0), np.float64(30.0), np.float64(20.832), np.float64(34.165), np.float64(0.001), np.float64(34.166), np.float64(20.832), np.float64(0.0), np.float64(30.0), np.float64(60.0), np.float64(60.0), np.float64(30.0), np.float64(30.0), np.float64(50.832), np.float64(64.165), np.float64(30.0), np.float64(4.165), np.float64(9.168), np.float64(30.0), np.float64(60.0), np.float64(90.0), np.float64(30.0), np.float64(39.167), np.float64(60.0), np.float64(80.832), np.float64(94.166), np.float64(60.001), np.float64(25.835), np.float64(30.0), np.float64(60.0), np.float64(90.0), np.float64(120.0)]\n"
     ]
    },
    {
     "data": {
      "text/plain": [
       "1320"
      ]
     },
     "execution_count": 114,
     "metadata": {},
     "output_type": "execute_result"
    }
   ],
   "source": [
    "len(calculate_all_bond_angles(benzene_geo, ignore_order=False, unique=False)) # should be 12 permutate 3 = 12*11*10 = 1320"
   ]
  },
  {
   "cell_type": "code",
   "execution_count": null,
   "id": "9722449a-76e6-4ab6-ac98-929e9534f8bc",
   "metadata": {},
   "outputs": [],
   "source": []
  }
 ],
 "metadata": {
  "kernelspec": {
   "display_name": "Python (chem-4050)",
   "language": "python",
   "name": "chem-4050"
  },
  "language_info": {
   "codemirror_mode": {
    "name": "ipython",
    "version": 3
   },
   "file_extension": ".py",
   "mimetype": "text/x-python",
   "name": "python",
   "nbconvert_exporter": "python",
   "pygments_lexer": "ipython3",
   "version": "3.12.11"
  }
 },
 "nbformat": 4,
 "nbformat_minor": 5
}

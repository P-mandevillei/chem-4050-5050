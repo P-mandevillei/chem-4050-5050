{
 "cells": [
  {
   "cell_type": "markdown",
   "id": "d648b5cf-7621-460e-8848-c694e2a5c094",
   "metadata": {},
   "source": [
    "# Numerical Integration of the Second Virial Coefficient"
   ]
  },
  {
   "cell_type": "markdown",
   "id": "656bdad6-3544-4c03-9655-2cc90e232f72",
   "metadata": {},
   "source": [
    "## Define the Potentials"
   ]
  },
  {
   "cell_type": "code",
   "execution_count": 9,
   "id": "7d212beb-cb09-4ea1-a3c8-e510840ed49a",
   "metadata": {},
   "outputs": [],
   "source": [
    "class Potential:\n",
    "    \"\"\"\n",
    "    Base class for Potential callable objects.\n",
    "    \"\"\"\n",
    "    def __init__(self, sigma):\n",
    "        \"\"\"\n",
    "        Constructor.\n",
    "\n",
    "        Parameters:\n",
    "            sigma (angstrom): parameter sigma for this potential\n",
    "        \"\"\"\n",
    "        self.sigma = sigma\n",
    "    def __call__(self, r):\n",
    "        \"\"\"\n",
    "        Calculates the potential energy at distance r.\n",
    "\n",
    "        Parameters:\n",
    "            r (angstrom): the distance\n",
    "\n",
    "        Returns:\n",
    "            Potential energy (eV) at distance r\n",
    "        \"\"\"\n",
    "        return 0"
   ]
  },
  {
   "cell_type": "code",
   "execution_count": 10,
   "id": "60c2b4f4-41f8-4fe2-9373-ecc4ffb1e995",
   "metadata": {},
   "outputs": [],
   "source": [
    "class Lennard_jones(Potential):\n",
    "    \"\"\"\n",
    "    Lennard-Jones potential.\n",
    "    \"\"\"\n",
    "    def __init__(self):\n",
    "        \"\"\"\n",
    "        Constructor.\n",
    "        Assumes sigma of 3.4 A and epsilon of 0.01 eV.\n",
    "        \"\"\"\n",
    "        super().__init__(3.4)\n",
    "        self.epsilon = 0.01\n",
    "\n",
    "    def __call__(self, r):\n",
    "        \"\"\"\n",
    "        Calculates the Lennard-Jones potential at distance r.\n",
    "\n",
    "        Parameters:\n",
    "            r (angstrom): the distance\n",
    "        \n",
    "        Returns:\n",
    "            Potential energy (eV) at distance r\n",
    "        \"\"\"\n",
    "        V = 4*self.epsilon*((self.sigma/r)**12 - (self.sigma/r)**6)\n",
    "        return V"
   ]
  },
  {
   "cell_type": "code",
   "execution_count": 11,
   "id": "488eda07-034e-483d-91f0-5c19de066db7",
   "metadata": {},
   "outputs": [
    {
     "data": {
      "text/plain": [
       "22.339386729190434"
      ]
     },
     "execution_count": 11,
     "metadata": {},
     "output_type": "execute_result"
    }
   ],
   "source": [
    "class Hard_sphere(Potential):\n",
    "    \"\"\"\n",
    "    Hard-Sphere potential.\n",
    "    \"\"\"\n",
    "    def __init__(self):\n",
    "        \"\"\"\n",
    "        Constructor.\n",
    "        Assumes sigma of 3.4 A and epsilon of 0.01 eV.\n",
    "        \"\"\"\n",
    "        super().__init__(3.4)\n",
    "        self.epsilon = 0.01\n",
    "\n",
    "    def __call__(self, r):\n",
    "        \"\"\"\n",
    "        Calculates the Lennard-Jones potential at distance r.\n",
    "\n",
    "        Parameters:\n",
    "            r (angstrom): the distance\n",
    "        \n",
    "        Returns:\n",
    "            Potential energy (eV) at distance r\n",
    "        \"\"\"\n",
    "        V = 4*self.epsilon*((self.sigma/r)**12 - (self.sigma/r)**6)\n",
    "        return V"
   ]
  },
  {
   "cell_type": "code",
   "execution_count": null,
   "id": "2dd58183-1dc0-4d3f-b60b-1179cb8053d3",
   "metadata": {},
   "outputs": [],
   "source": []
  }
 ],
 "metadata": {
  "kernelspec": {
   "display_name": "Python (chem-4050)",
   "language": "python",
   "name": "chem-4050"
  },
  "language_info": {
   "codemirror_mode": {
    "name": "ipython",
    "version": 3
   },
   "file_extension": ".py",
   "mimetype": "text/x-python",
   "name": "python",
   "nbconvert_exporter": "python",
   "pygments_lexer": "ipython3",
   "version": "3.12.11"
  }
 },
 "nbformat": 4,
 "nbformat_minor": 5
}

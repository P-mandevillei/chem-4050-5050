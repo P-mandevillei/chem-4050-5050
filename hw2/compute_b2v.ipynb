{
 "cells": [
  {
   "cell_type": "markdown",
   "id": "d648b5cf-7621-460e-8848-c694e2a5c094",
   "metadata": {},
   "source": [
    "# Numerical Integration of the Second Virial Coefficient"
   ]
  },
  {
   "cell_type": "code",
   "execution_count": 1,
   "id": "37fdee99-7626-43ef-b13f-3d1a65e6b458",
   "metadata": {},
   "outputs": [],
   "source": [
    "import numpy as np\n",
    "from scipy.integrate import trapezoid\n",
    "import pandas as pd\n",
    "from matplotlib import pyplot as plt"
   ]
  },
  {
   "cell_type": "markdown",
   "id": "656bdad6-3544-4c03-9655-2cc90e232f72",
   "metadata": {},
   "source": [
    "## Define the Potentials"
   ]
  },
  {
   "cell_type": "code",
   "execution_count": 2,
   "id": "7d212beb-cb09-4ea1-a3c8-e510840ed49a",
   "metadata": {},
   "outputs": [],
   "source": [
    "class Potential:\n",
    "    \"\"\"\n",
    "    Base class for Potential callable objects.\n",
    "    \"\"\"\n",
    "    def __init__(self, sigma):\n",
    "        \"\"\"\n",
    "        Potential(sigma)\n",
    "\n",
    "        Parameters:\n",
    "            sigma (angstrom): characteristic length for this potential\n",
    "        \"\"\"\n",
    "        self.sigma = sigma\n",
    "    def __call__(self, r):\n",
    "        \"\"\"\n",
    "        Calculates the potential energy at distance r.\n",
    "\n",
    "        Parameters:\n",
    "            r (angstrom): the distance\n",
    "\n",
    "        Returns:\n",
    "            Potential energy (eV) at distance r\n",
    "        \"\"\"\n",
    "        return 0"
   ]
  },
  {
   "cell_type": "code",
   "execution_count": 3,
   "id": "60c2b4f4-41f8-4fe2-9373-ecc4ffb1e995",
   "metadata": {},
   "outputs": [],
   "source": [
    "class Lennard_jones(Potential):\n",
    "    \"\"\"\n",
    "    Lennard-Jones potential.\n",
    "    \"\"\"\n",
    "    def __init__(self):\n",
    "        \"\"\"\n",
    "        Lennard_jones()\n",
    "        Assumes sigma of 3.4 A and epsilon of 0.01 eV.\n",
    "        \"\"\"\n",
    "        super().__init__(3.4)\n",
    "        self.epsilon = 0.01\n",
    "\n",
    "    def __call__(self, r):\n",
    "        \"\"\"\n",
    "        Calculates the Lennard-Jones potential at distance r.\n",
    "\n",
    "        Parameters:\n",
    "            r (angstrom): the distance\n",
    "        \n",
    "        Returns:\n",
    "            Potential energy (eV) at distance r\n",
    "        \"\"\"\n",
    "        V = 4*self.epsilon*((self.sigma/r)**12 - (self.sigma/r)**6)\n",
    "        return V"
   ]
  },
  {
   "cell_type": "code",
   "execution_count": 4,
   "id": "488eda07-034e-483d-91f0-5c19de066db7",
   "metadata": {},
   "outputs": [],
   "source": [
    "class Hard_sphere(Potential):\n",
    "    \"\"\"\n",
    "    Hard-Sphere potential.\n",
    "    \"\"\"\n",
    "    def __init__(self):\n",
    "        \"\"\"\n",
    "        Hard_sphere()\n",
    "        Assumes sigma of 3.4 A.\n",
    "        \"\"\"\n",
    "        super().__init__(3.4)\n",
    "        self.infty = 1000\n",
    "\n",
    "    def __call__(self, r):\n",
    "        \"\"\"\n",
    "        Calculates the Hard-Sphere potential at distance r.\n",
    "\n",
    "        Parameters:\n",
    "            r (angstrom): the distance\n",
    "        \n",
    "        Returns:\n",
    "            Potential energy (eV) at distance r\n",
    "        \"\"\"\n",
    "        if r < self.sigma:\n",
    "            return self.infty\n",
    "        else:\n",
    "            return 0"
   ]
  },
  {
   "cell_type": "code",
   "execution_count": 5,
   "id": "2dd58183-1dc0-4d3f-b60b-1179cb8053d3",
   "metadata": {},
   "outputs": [],
   "source": [
    "class Square_well(Potential):\n",
    "    \"\"\"\n",
    "    Square-Well potential.\n",
    "    \"\"\"\n",
    "    def __init__(self):\n",
    "        \"\"\"\n",
    "        Square_well()\n",
    "        Assumes sigma of 3.4 A, epsilon of 0.01 eV, and lambda of 1.5.\n",
    "        \"\"\"\n",
    "        super().__init__(3.4)\n",
    "        self.infty = 1000\n",
    "        self.epsilon = 0.01\n",
    "        self.lambda_p = 1.5\n",
    "\n",
    "    def __call__(self, r):\n",
    "        \"\"\"\n",
    "        Calculates the Hard-Sphere potential at distance r.\n",
    "\n",
    "        Parameters:\n",
    "            r (angstrom): the distance\n",
    "        \n",
    "        Returns:\n",
    "            Potential energy (eV) at distance r\n",
    "        \"\"\"\n",
    "        if r < self.sigma:\n",
    "            return self.infty\n",
    "        elif self.sigma<=r<self.lambda_p*self.sigma:\n",
    "            return -self.epsilon\n",
    "        else:\n",
    "            return 0"
   ]
  },
  {
   "cell_type": "markdown",
   "id": "a67d04a3-46a2-4387-8633-6f739cc57252",
   "metadata": {},
   "source": [
    "# Numerical Integration"
   ]
  },
  {
   "cell_type": "code",
   "execution_count": 41,
   "id": "a2f7f7bb-d032-4777-a702-0bebe4c29b61",
   "metadata": {},
   "outputs": [],
   "source": [
    "class Second_virial_coeff():\n",
    "    \"\"\"\n",
    "    Numerically calculates the second virial coefficient\n",
    "    \"\"\"\n",
    "    def __init__(self, potential):\n",
    "        \"\"\"\n",
    "        Second_virial_coeff(potential)\n",
    "\n",
    "        Parameters:\n",
    "            potential: a Potential object specifying the potential energy at distance r\n",
    "        \"\"\"\n",
    "        self.potential = potential # dependency injection\n",
    "\n",
    "    def integrate(self, temp):\n",
    "        \"\"\"\n",
    "        Numerically integrates B2V at temperature temp\n",
    "\n",
    "        Parameters:\n",
    "            temp (K): temperature\n",
    "\n",
    "        Returns:\n",
    "            Numeric solution for B2V at temperature temp (A^3/mol)\n",
    "        \"\"\"\n",
    "\n",
    "        # define constants\n",
    "        NA = 6.02e23 # mol^{-1}\n",
    "        KB = 8.617333262e-5 # eV/K\n",
    "        # start from a small positive value so that Lennard-Jones won't divide by 0\n",
    "        r = np.linspace(1e-6, 5*self.potential.sigma, 1000)\n",
    "        potentials = np.array([self.potential(r0) for r0 in r])\n",
    "        integrand = (np.exp(-potentials/(KB*temp)) - 1) * (r**2)\n",
    "        integral = trapezoid(integrand, x=r) # integrate using trapezoid rule\n",
    "        return -2*np.pi*NA*integral # scaling factor"
   ]
  },
  {
   "cell_type": "markdown",
   "id": "7212f239-5fd9-494e-9c1b-cb17b10777b3",
   "metadata": {},
   "source": [
    "## Compute $B_{2V}$ for Different Temperatures"
   ]
  },
  {
   "cell_type": "code",
   "execution_count": 42,
   "id": "89004c93-1c96-43bf-acfb-45c1146aad01",
   "metadata": {},
   "outputs": [],
   "source": [
    "hard_sphere = Hard_sphere()\n",
    "square_well = Square_well()\n",
    "lennard_jones = Lennard_jones()"
   ]
  },
  {
   "cell_type": "code",
   "execution_count": 43,
   "id": "1909784a-c790-45c3-9ad0-73b5a57e17af",
   "metadata": {},
   "outputs": [],
   "source": [
    "V2B_hard_sphere = Second_virial_coeff(hard_sphere)\n",
    "V2B_square_well = Second_virial_coeff(square_well)\n",
    "V2B_lennard_jones = Second_virial_coeff(lennard_jones)"
   ]
  },
  {
   "cell_type": "code",
   "execution_count": 44,
   "id": "667123c4-1ffe-4274-b5f6-13eaca733aee",
   "metadata": {},
   "outputs": [],
   "source": [
    "V2B_df = pd.DataFrame({'temp': np.arange(100, 1500, 20)})"
   ]
  },
  {
   "cell_type": "code",
   "execution_count": 45,
   "id": "3fbe4dab-bd13-4fba-bc83-dfcf852fc0d9",
   "metadata": {},
   "outputs": [
    {
     "data": {
      "text/html": [
       "<div>\n",
       "<style scoped>\n",
       "    .dataframe tbody tr th:only-of-type {\n",
       "        vertical-align: middle;\n",
       "    }\n",
       "\n",
       "    .dataframe tbody tr th {\n",
       "        vertical-align: top;\n",
       "    }\n",
       "\n",
       "    .dataframe thead th {\n",
       "        text-align: right;\n",
       "    }\n",
       "</style>\n",
       "<table border=\"1\" class=\"dataframe\">\n",
       "  <thead>\n",
       "    <tr style=\"text-align: right;\">\n",
       "      <th></th>\n",
       "      <th>temp</th>\n",
       "      <th>hard_sphere</th>\n",
       "      <th>square_well</th>\n",
       "      <th>lennard_jones</th>\n",
       "    </tr>\n",
       "  </thead>\n",
       "  <tbody>\n",
       "    <tr>\n",
       "      <th>0</th>\n",
       "      <td>100</td>\n",
       "      <td>4.933234e+25</td>\n",
       "      <td>-2.083349e+26</td>\n",
       "      <td>-1.609243e+26</td>\n",
       "    </tr>\n",
       "    <tr>\n",
       "      <th>1</th>\n",
       "      <td>120</td>\n",
       "      <td>4.933234e+25</td>\n",
       "      <td>-1.423454e+26</td>\n",
       "      <td>-1.170818e+26</td>\n",
       "    </tr>\n",
       "    <tr>\n",
       "      <th>2</th>\n",
       "      <td>140</td>\n",
       "      <td>4.933234e+25</td>\n",
       "      <td>-1.024412e+26</td>\n",
       "      <td>-8.878705e+25</td>\n",
       "    </tr>\n",
       "    <tr>\n",
       "      <th>3</th>\n",
       "      <td>160</td>\n",
       "      <td>4.933234e+25</td>\n",
       "      <td>-7.592994e+25</td>\n",
       "      <td>-6.906884e+25</td>\n",
       "    </tr>\n",
       "    <tr>\n",
       "      <th>4</th>\n",
       "      <td>180</td>\n",
       "      <td>4.933234e+25</td>\n",
       "      <td>-5.712761e+25</td>\n",
       "      <td>-5.457167e+25</td>\n",
       "    </tr>\n",
       "  </tbody>\n",
       "</table>\n",
       "</div>"
      ],
      "text/plain": [
       "   temp   hard_sphere   square_well  lennard_jones\n",
       "0   100  4.933234e+25 -2.083349e+26  -1.609243e+26\n",
       "1   120  4.933234e+25 -1.423454e+26  -1.170818e+26\n",
       "2   140  4.933234e+25 -1.024412e+26  -8.878705e+25\n",
       "3   160  4.933234e+25 -7.592994e+25  -6.906884e+25\n",
       "4   180  4.933234e+25 -5.712761e+25  -5.457167e+25"
      ]
     },
     "execution_count": 45,
     "metadata": {},
     "output_type": "execute_result"
    }
   ],
   "source": [
    "V2B_df['hard_sphere'] = V2B_df['temp'].apply(V2B_hard_sphere.integrate)\n",
    "V2B_df['square_well'] = V2B_df['temp'].apply(V2B_square_well.integrate)\n",
    "V2B_df['lennard_jones'] = V2B_df['temp'].apply(V2B_lennard_jones.integrate)\n",
    "V2B_df.head()"
   ]
  },
  {
   "cell_type": "code",
   "execution_count": 46,
   "id": "9be590ba-0a04-4afc-bb3c-b1253e688fea",
   "metadata": {},
   "outputs": [],
   "source": [
    "V2B_df.to_csv(\"homework-2-2/B2V_temp.csv\", index=False)"
   ]
  },
  {
   "cell_type": "code",
   "execution_count": 47,
   "id": "f343397c-ebf5-4749-ad38-8c905d705a2c",
   "metadata": {},
   "outputs": [
    {
     "data": {
      "image/png": "[encoded data removed]",
      "text/plain": [
       "<Figure size 600x400 with 1 Axes>"
      ]
     },
     "metadata": {},
     "output_type": "display_data"
    }
   ],
   "source": [
    "fig, ax = plt.subplots(figsize=(6,4))\n",
    "V2B_df.plot(x='temp', ax=ax)\n",
    "ax.axhline(y=0, linestyle='--', color='red', alpha=0.7)\n",
    "ax.set_xlabel(\"Temperature (K)\")\n",
    "ax.set_ylabel(\"$B_{2V}$ ($\\\\AA^3$/mol)\")\n",
    "ax.set_title(\"Relationship of Second Virial Coefficient vs. Temperature\")\n",
    "ax.grid(True)\n",
    "fig.savefig(\"homework-2-2/B2V_temp.png\", bbox_inches='tight')"
   ]
  },
  {
   "cell_type": "markdown",
   "id": "eab7beb3-0fb5-4d7a-aea5-9efadbaeef1c",
   "metadata": {},
   "source": [
    "## Discussion\n",
    "### comparing the behavior of $B_{2V}$ for different potentials\n",
    "Under all temperatures calculated, hard sphere potential results in a $B_{2V}$ of a constant $5 \\times 10^{25} Å/mol^3$. Square well and Lennard-Jones potentials both have results that appear to start from negative infinity and come closer to hard sphere potential's result as temperature increases, but Lennard-Jones appears to converge more slowly.\n",
    "\n",
    "### Hard Sphere Potential\n",
    "Hard sphere potential is either positive infinity or 0. When it's 0, the integrand turns 0 too. When it's positive infinity, the integrand approaches $(e^{-\\infty}-1)r^2 = -r^2$ that is unrelated to $T$, which leads to the constant integration result at all temperatures. It is also the largest among the three, since it has no negative part.\n",
    "\n",
    "### Square Well Potential\n",
    "When $r<\\sigma$, this gives the same temperature independence as hard sphere potential. However, temperature affects the integration result when $r$ is in the range $(\\sigma, \\lambda\\sigma)$. Since this part is negative, $-u(r)/K_BT$ is positive and decreases as $T$ increases, which leads to a less postive integrand and, when multiplied by the negative factor $-2\\pi$, gives a overall less negative result. Therefore it makes sense that the $B_{2V}$ curve is increasing throughout. When $T\\rightarrow +\\infty$, $-u(r)/K_BT\\rightarrow0$, which cancels out the integrand and leads to converging result as the hard sphere potential.\n",
    "\n",
    "### Lennard-Jones Potential\n",
    "This model is a smoothed representation of the same trend represented by the square well potential model, so it makes sense that the integration results for the two follows closely. When $r<\\sigma$, the potential approaches positive infinity, and it makes sense that integration across this region converges to some positive value **smaller than the limit set by the hard sphere potential**, since integration for a (appear-to-be-converging) potential curve should yield some smaller area than infinity. When $r>\\sigma$, Lennard-Jones potential turns negative, and temperature would have the similar effect on the resulting $B_{2V}$ as that calculated using the square well potential. When T is small, the negative part of the potential dominates (as the exponent becomes a large positive number and exponentiation rises much more rapidly with positive exponents than it decays with negative exponents), and $B_{2V}$ approaches negative infinity. When T is large, the positive part of the potential dominates, and $B_{2V}$ approaches the limiting positive value."
   ]
  }
 ],
 "metadata": {
  "kernelspec": {
   "display_name": "Python (chem-4050)",
   "language": "python",
   "name": "chem-4050"
  },
  "language_info": {
   "codemirror_mode": {
    "name": "ipython",
    "version": 3
   },
   "file_extension": ".py",
   "mimetype": "text/x-python",
   "name": "python",
   "nbconvert_exporter": "python",
   "pygments_lexer": "ipython3",
   "version": "3.12.11"
  }
 },
 "nbformat": 4,
 "nbformat_minor": 5
}

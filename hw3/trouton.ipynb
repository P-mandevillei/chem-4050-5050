{
 "cells": [
  {
   "cell_type": "markdown",
   "id": "73ad1e24-44e7-42e4-9aab-06d6d1344c1e",
   "metadata": {},
   "source": [
    "# Trouton's Rule"
   ]
  },
  {
   "cell_type": "code",
   "execution_count": 31,
   "id": "30985bf6-111d-44e5-bc3c-92fa79c4b6df",
   "metadata": {},
   "outputs": [],
   "source": [
    "import numpy as np\n",
    "import pandas as pd\n",
    "from matplotlib import pyplot as plt\n",
    "from scipy import constants\n",
    "from scipy.stats import t\n",
    "import seaborn as sns"
   ]
  },
  {
   "cell_type": "markdown",
   "id": "f4346851-c0fa-43d7-b952-c848b7d6d3c5",
   "metadata": {},
   "source": [
    "## linear regression"
   ]
  },
  {
   "cell_type": "code",
   "execution_count": 2,
   "id": "8f8b9ac7-6116-4537-9a70-cdb90e861549",
   "metadata": {},
   "outputs": [],
   "source": [
    "def ols_slope(x, y):\n",
    "    x_mean = np.mean(x)\n",
    "    y_mean = np.mean(y)\n",
    "    numerator = np.sum((x - x_mean) * (y - y_mean))\n",
    "    denominator = np.sum((x - x_mean) ** 2)\n",
    "    return numerator / denominator\n",
    "\n",
    "def ols_intercept(x, y):\n",
    "    x_mean = np.mean(x)\n",
    "    y_mean = np.mean(y)\n",
    "    slope = ols_slope(x, y)\n",
    "    return y_mean - slope * x_mean\n",
    "\n",
    "def ols(x, y):\n",
    "    slope = ols_slope(x, y)\n",
    "    intercept = ols_intercept(x, y)\n",
    "    return slope, intercept"
   ]
  },
  {
   "cell_type": "code",
   "execution_count": 3,
   "id": "60bf0620-fc45-4eae-a475-9d304bf5275c",
   "metadata": {},
   "outputs": [
    {
     "data": {
      "text/html": [
       "<div>\n",
       "<style scoped>\n",
       "    .dataframe tbody tr th:only-of-type {\n",
       "        vertical-align: middle;\n",
       "    }\n",
       "\n",
       "    .dataframe tbody tr th {\n",
       "        vertical-align: top;\n",
       "    }\n",
       "\n",
       "    .dataframe thead th {\n",
       "        text-align: right;\n",
       "    }\n",
       "</style>\n",
       "<table border=\"1\" class=\"dataframe\">\n",
       "  <thead>\n",
       "    <tr style=\"text-align: right;\">\n",
       "      <th></th>\n",
       "      <th>Class</th>\n",
       "      <th>Substance</th>\n",
       "      <th>T_B (K)</th>\n",
       "      <th>H_v (kcal/mol)</th>\n",
       "    </tr>\n",
       "  </thead>\n",
       "  <tbody>\n",
       "    <tr>\n",
       "      <th>0</th>\n",
       "      <td>Perfect liquids</td>\n",
       "      <td>Ar</td>\n",
       "      <td>87.29</td>\n",
       "      <td>1.558</td>\n",
       "    </tr>\n",
       "    <tr>\n",
       "      <th>1</th>\n",
       "      <td>Perfect liquids</td>\n",
       "      <td>Kr</td>\n",
       "      <td>119.93</td>\n",
       "      <td>2.158</td>\n",
       "    </tr>\n",
       "    <tr>\n",
       "      <th>2</th>\n",
       "      <td>Perfect liquids</td>\n",
       "      <td>Xe</td>\n",
       "      <td>165.10</td>\n",
       "      <td>3.021</td>\n",
       "    </tr>\n",
       "    <tr>\n",
       "      <th>3</th>\n",
       "      <td>Perfect liquids</td>\n",
       "      <td>Rn</td>\n",
       "      <td>211.00</td>\n",
       "      <td>3.920</td>\n",
       "    </tr>\n",
       "    <tr>\n",
       "      <th>4</th>\n",
       "      <td>Perfect liquids</td>\n",
       "      <td>N2</td>\n",
       "      <td>77.34</td>\n",
       "      <td>1.333</td>\n",
       "    </tr>\n",
       "  </tbody>\n",
       "</table>\n",
       "</div>"
      ],
      "text/plain": [
       "             Class Substance  T_B (K)  H_v (kcal/mol)\n",
       "0  Perfect liquids        Ar    87.29           1.558\n",
       "1  Perfect liquids        Kr   119.93           2.158\n",
       "2  Perfect liquids        Xe   165.10           3.021\n",
       "3  Perfect liquids        Rn   211.00           3.920\n",
       "4  Perfect liquids        N2    77.34           1.333"
      ]
     },
     "execution_count": 3,
     "metadata": {},
     "output_type": "execute_result"
    }
   ],
   "source": [
    "df = pd.read_csv('trouton.csv')\n",
    "df.head()"
   ]
  },
  {
   "cell_type": "markdown",
   "id": "f8fab73f-e82c-41c8-b8de-9dbaeae981d2",
   "metadata": {},
   "source": [
    "$$ H_v (kcal/mol) = a (\\frac{kcal}{mol\\cdot K}) \\cdot T_B (K) + b (kcal/mol) $$"
   ]
  },
  {
   "cell_type": "code",
   "execution_count": 4,
   "id": "825a0828-e61d-45d8-9b74-92fa687ca46d",
   "metadata": {},
   "outputs": [],
   "source": [
    "slope, intercept = ols(df['T_B (K)'], df['H_v (kcal/mol)'])"
   ]
  },
  {
   "cell_type": "code",
   "execution_count": 5,
   "id": "be77d72f-358c-45fb-ae41-a1ec62b787bd",
   "metadata": {},
   "outputs": [
    {
     "data": {
      "text/plain": [
       "np.float64(0.024821907890197184)"
      ]
     },
     "execution_count": 5,
     "metadata": {},
     "output_type": "execute_result"
    }
   ],
   "source": [
    "slope"
   ]
  },
  {
   "cell_type": "code",
   "execution_count": 12,
   "id": "ced15470-456c-45de-9bc4-1214d457be90",
   "metadata": {},
   "outputs": [],
   "source": [
    "slope_JmolK = slope * 1000 * constants.calorie\n",
    "intercept_kJmol = intercept * constants.calorie"
   ]
  },
  {
   "cell_type": "code",
   "execution_count": 7,
   "id": "dde8b12b-5bec-4c7b-a615-0072c4fb7170",
   "metadata": {},
   "outputs": [],
   "source": [
    "# Calculate the sum of the squared residuals\n",
    "def sse(residuals):\n",
    "    return np.sum(residuals ** 2)\n",
    "\n",
    "# Calculate the variance of the residuals\n",
    "def variance(residuals):\n",
    "    return sse(residuals) / (len(residuals) - 2)\n",
    "\n",
    "# Calculate the standard error of the slope\n",
    "def se_slope(x, residuals):\n",
    "    # numerator\n",
    "    numerator = variance(residuals)\n",
    "    # denominator\n",
    "    x_mean = np.mean(x)\n",
    "    denominator = np.sum((x - x_mean) ** 2)\n",
    "    return np.sqrt(numerator / denominator)\n",
    "\n",
    "def se_intercept(x, residuals):\n",
    "    x_mean = np.mean(x)\n",
    "    denominator = np.sum((x - x_mean) ** 2)\n",
    "    return np.sqrt(variance(residuals)*(1/len(x) + x_mean**2 / denominator))\n",
    "\n",
    "# Calculate the confidence interval\n",
    "def confidence_interval_slope(x, residuals, confidence_level):\n",
    "    # Calculate the standard error of the slope\n",
    "    se = se_slope(x, residuals)\n",
    "\n",
    "    # Calculate the critical t-value\n",
    "    n_data_points = len(x)\n",
    "    df = n_data_points - 2  # degrees of freedom\n",
    "    alpha = 1 - confidence_level\n",
    "    critical_t_value = t.ppf(1 - alpha/2, df)\n",
    "\n",
    "    # Calculate the confidence interval\n",
    "    return critical_t_value * se\n",
    "\n",
    "# Calculate the confidence interval for the intercept\n",
    "def confidence_interval_intercept(x, residuals, confidence_level):\n",
    "    # Calculate the standard error of the intercept\n",
    "    se = se_intercept(x, residuals)\n",
    "\n",
    "    # Calculate the critical t-value\n",
    "    n_data_points = len(x)\n",
    "    df = n_data_points - 2  # degrees of freedom\n",
    "    alpha = 1 - confidence_level\n",
    "    critical_t_value = t.ppf(1 - alpha/2, df)\n",
    "\n",
    "    # Calculate the confidence interval\n",
    "    return critical_t_value * se"
   ]
  },
  {
   "cell_type": "code",
   "execution_count": 8,
   "id": "4df69d69-8e35-4023-9aa4-81f0621ba3b3",
   "metadata": {},
   "outputs": [],
   "source": [
    "residuals = df.apply(lambda row: row['H_v (kcal/mol)'] - (slope*row['T_B (K)']+intercept), axis=1)"
   ]
  },
  {
   "cell_type": "code",
   "execution_count": 9,
   "id": "a4d7256f-08fb-47c1-a795-26b34c49e66e",
   "metadata": {},
   "outputs": [],
   "source": [
    "ci_slope = confidence_interval_slope(df['T_B (K)'], residuals, 0.95)\n",
    "ci_intercept = confidence_interval_intercept(df['T_B (K)'], residuals, 0.95)"
   ]
  },
  {
   "cell_type": "code",
   "execution_count": 10,
   "id": "0054e43d-f2cc-42f8-8cb7-5c9ef44cfbdc",
   "metadata": {},
   "outputs": [],
   "source": [
    "slope_ci, intercept_ci = np.array((slope-ci_slope, slope+ci_slope)), np.array((intercept-ci_intercept, intercept+ci_intercept))"
   ]
  },
  {
   "cell_type": "code",
   "execution_count": 11,
   "id": "4ae926aa-f248-478c-a11c-8940cb632557",
   "metadata": {},
   "outputs": [],
   "source": [
    "slope_ci_JmolK = slope_ci*1000*constants.calorie\n",
    "intercept_ci_kJmol = intercept_ci*constants.calorie"
   ]
  },
  {
   "cell_type": "code",
   "execution_count": 44,
   "id": "3f8fa5c4-e087-475e-8b9f-cc1de4a46969",
   "metadata": {},
   "outputs": [],
   "source": [
    "df['H_v (kJ/mol)'] = df['H_v (kcal/mol)'].apply(lambda x: x*constants.calorie)"
   ]
  },
  {
   "cell_type": "code",
   "execution_count": 67,
   "id": "6cdca2dc-ef80-4261-93bd-88dc0a33deee",
   "metadata": {},
   "outputs": [
    {
     "data": {
      "image/png": "[encoded data removed]",
      "text/plain": [
       "<Figure size 700x400 with 1 Axes>"
      ]
     },
     "metadata": {},
     "output_type": "display_data"
    }
   ],
   "source": [
    "fig, ax = plt.subplots(figsize=(7, 4))\n",
    "fig.tight_layout()\n",
    "\n",
    "# plot with different colors by class\n",
    "sns.scatterplot(df, ax=ax, x='T_B (K)', y='H_v (kJ/mol)', hue='Class')\n",
    "\n",
    "# plot fitted line\n",
    "x = np.linspace(0, df['T_B (K)'].max(), 2)\n",
    "ax.plot(x, \n",
    "    slope_JmolK/1000*x+intercept_kJmol, # make sure units match \n",
    "    '--', \n",
    "    label=f\"$H_v = a\\\\cdot T_B + b$\",\n",
    "    alpha=0.5,\n",
    "    color='black'\n",
    ")\n",
    "\n",
    "# annotate CI\n",
    "ax.text(0, 200, f\"\"\"Parameter: Best fit; 95% CI\n",
    "a ($\\\\frac{{J}}{{mol\\\\cdot K}}$): {slope_JmolK:.2f}; ({slope_ci_JmolK[0]:.2f}, {slope_ci_JmolK[1]:.2f})\n",
    "b ($\\\\frac{{kJ}}{{mol}}$): {intercept_kJmol:.2f}; ({intercept_ci_kJmol[0]:.2f}, {intercept_ci_kJmol[1]:.2f})\n",
    "\"\"\")\n",
    "ax.set_xlabel(\"$T_B (K)$\")\n",
    "ax.set_ylabel(\"$H_v (kJ/mol)$\")\n",
    "ax.set_title(\"Trouton's Rule\")\n",
    "ax.legend()\n",
    "fig.savefig('homework-3-1/trouton.png', dpi=200, bbox_inches='tight')"
   ]
  },
  {
   "cell_type": "markdown",
   "id": "adaa54aa-5d4c-434a-a7c4-0ba06f1a2c98",
   "metadata": {},
   "source": [
    "## Interpret the slope and compare to Trouton's Rule"
   ]
  },
  {
   "cell_type": "markdown",
   "id": "920210b4-b26b-4f21-bc6f-da974fe32423",
   "metadata": {},
   "source": [
    "The slope can be interpreted as $\\Delta S_v$. Using linear regression, we obtained a best fit with a slope of 103.85 $\\frac{J}{mol\\cdot K}$ and we are 95% confident that the slope falls between 97.46 and 110.25 $\\frac{J}{mol\\cdot K}$. We can perform hypothesis testing with the null hypothesis being that the true slope is 88 $\\frac{J}{mol\\cdot K}$ and $\\alpha=0.5$. Since the 95% confidence interval of the slope does not contain 88 $\\frac{J}{mol\\cdot K}$, we can reject the null hypothesis. Therefore, we conclude with 95% confidence that for our data, $\\Delta S_v \\neq 88 \\frac{J}{mol\\cdot K}$.<br>\n",
    "We see from the plot that the distribution of enthalpies over temperature is highly uneven, with most points clustered at low temperatures but a few points fluctuating a lot at high temperatures. Linear regression minimizes residual sum of squares, which would be affected more by those few datapoints at the high temperature end. This could explain why our result deviates from Trouton's rule.<br>\n",
    "We can perform a similar test with the intercept, with the null hypothesis being the true intercept is 0 and $\\alpha=0.5$. This time its 95% confidence interval includes 0, therefore we cannot reject the null hypothesis. This is consistent with theoretical thermodynamics predictions. Under constant pressure, $\\Delta G_v = \\Delta H_v - T\\Delta S_v = 0$ since vaporization is reversible. Therefore, $\\Delta H_v = \\Delta S_v \\times T$. This predicts a 0 intercept."
   ]
  },
  {
   "cell_type": "code",
   "execution_count": null,
   "id": "58c396fc-4f85-4636-8ae3-a1647a5ca837",
   "metadata": {},
   "outputs": [],
   "source": []
  }
 ],
 "metadata": {
  "kernelspec": {
   "display_name": "Python (chem-4050)",
   "language": "python",
   "name": "chem-4050"
  },
  "language_info": {
   "codemirror_mode": {
    "name": "ipython",
    "version": 3
   },
   "file_extension": ".py",
   "mimetype": "text/x-python",
   "name": "python",
   "nbconvert_exporter": "python",
   "pygments_lexer": "ipython3",
   "version": "3.12.11"
  }
 },
 "nbformat": 4,
 "nbformat_minor": 5
}

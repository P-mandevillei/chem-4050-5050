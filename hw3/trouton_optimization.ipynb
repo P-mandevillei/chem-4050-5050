{
 "cells": [
  {
   "cell_type": "code",
   "execution_count": 21,
   "id": "c39e76c3-f9ce-400a-b7aa-fb384f1370ef",
   "metadata": {},
   "outputs": [],
   "source": [
    "import numpy as np\n",
    "import pandas as pd\n",
    "from scipy import constants\n",
    "from scipy.optimize import minimize\n",
    "from scipy.stats import t\n",
    "import seaborn as sns\n",
    "from matplotlib import pyplot as plt"
   ]
  },
  {
   "cell_type": "code",
   "execution_count": 2,
   "id": "f68da463-ae73-4fb2-b322-a775edbe375b",
   "metadata": {},
   "outputs": [
    {
     "data": {
      "text/html": [
       "<div>\n",
       "<style scoped>\n",
       "    .dataframe tbody tr th:only-of-type {\n",
       "        vertical-align: middle;\n",
       "    }\n",
       "\n",
       "    .dataframe tbody tr th {\n",
       "        vertical-align: top;\n",
       "    }\n",
       "\n",
       "    .dataframe thead th {\n",
       "        text-align: right;\n",
       "    }\n",
       "</style>\n",
       "<table border=\"1\" class=\"dataframe\">\n",
       "  <thead>\n",
       "    <tr style=\"text-align: right;\">\n",
       "      <th></th>\n",
       "      <th>Class</th>\n",
       "      <th>Substance</th>\n",
       "      <th>T_B (K)</th>\n",
       "      <th>H_v (kcal/mol)</th>\n",
       "    </tr>\n",
       "  </thead>\n",
       "  <tbody>\n",
       "    <tr>\n",
       "      <th>0</th>\n",
       "      <td>Perfect liquids</td>\n",
       "      <td>Ar</td>\n",
       "      <td>87.29</td>\n",
       "      <td>1.558</td>\n",
       "    </tr>\n",
       "    <tr>\n",
       "      <th>1</th>\n",
       "      <td>Perfect liquids</td>\n",
       "      <td>Kr</td>\n",
       "      <td>119.93</td>\n",
       "      <td>2.158</td>\n",
       "    </tr>\n",
       "    <tr>\n",
       "      <th>2</th>\n",
       "      <td>Perfect liquids</td>\n",
       "      <td>Xe</td>\n",
       "      <td>165.10</td>\n",
       "      <td>3.021</td>\n",
       "    </tr>\n",
       "    <tr>\n",
       "      <th>3</th>\n",
       "      <td>Perfect liquids</td>\n",
       "      <td>Rn</td>\n",
       "      <td>211.00</td>\n",
       "      <td>3.920</td>\n",
       "    </tr>\n",
       "    <tr>\n",
       "      <th>4</th>\n",
       "      <td>Perfect liquids</td>\n",
       "      <td>N2</td>\n",
       "      <td>77.34</td>\n",
       "      <td>1.333</td>\n",
       "    </tr>\n",
       "  </tbody>\n",
       "</table>\n",
       "</div>"
      ],
      "text/plain": [
       "             Class Substance  T_B (K)  H_v (kcal/mol)\n",
       "0  Perfect liquids        Ar    87.29           1.558\n",
       "1  Perfect liquids        Kr   119.93           2.158\n",
       "2  Perfect liquids        Xe   165.10           3.021\n",
       "3  Perfect liquids        Rn   211.00           3.920\n",
       "4  Perfect liquids        N2    77.34           1.333"
      ]
     },
     "execution_count": 2,
     "metadata": {},
     "output_type": "execute_result"
    }
   ],
   "source": [
    "df = pd.read_csv('trouton.csv')\n",
    "df.head()"
   ]
  },
  {
   "cell_type": "code",
   "execution_count": 25,
   "id": "61fabaed-9ad5-4a91-8b39-ffbaf8060acc",
   "metadata": {},
   "outputs": [],
   "source": [
    "def objective(a, b):\n",
    "    \"\"\"\n",
    "    Computes the sum of squared residuals for a linear regression model.\n",
    "\n",
    "    Parameters:\n",
    "        a: slope\n",
    "        b: intercept\n",
    "\n",
    "    Returns:\n",
    "        Residual sum of squares\n",
    "    \"\"\"\n",
    "    pred = a*df['T_B (K)'] + b\n",
    "    sse = np.sum((df['H_v (kcal/mol)'] - pred)**2)\n",
    "    return sse"
   ]
  },
  {
   "cell_type": "code",
   "execution_count": 17,
   "id": "4479ec30-23ee-4a84-a471-c4a243f83972",
   "metadata": {},
   "outputs": [],
   "source": [
    "slope, intercept = minimize(\n",
    "    lambda arr: objective(arr[0], arr[1]), \n",
    "    (0.02, 0), \n",
    "    method='Nelder-Mead', \n",
    "    tol=1e-6\n",
    ")['x']"
   ]
  },
  {
   "cell_type": "code",
   "execution_count": 18,
   "id": "da5251a9-e46a-4e8b-bee0-5edf61b65a05",
   "metadata": {},
   "outputs": [],
   "source": [
    "slope_JmolK = slope * 1000 * constants.calorie\n",
    "intercept_kJmol = intercept * constants.calorie"
   ]
  },
  {
   "cell_type": "markdown",
   "id": "f0c443e1-c65f-45bf-9ab5-491f2262b713",
   "metadata": {},
   "source": [
    "## Compare with linear regression"
   ]
  },
  {
   "cell_type": "code",
   "execution_count": 16,
   "id": "f9751b7c-61b2-4ef4-a07f-7dd8d1afd434",
   "metadata": {},
   "outputs": [
    {
     "name": "stdout",
     "output_type": "stream",
     "text": [
      "Performing linear regression\n"
     ]
    }
   ],
   "source": [
    "def ols_slope(x, y):\n",
    "    x_mean = np.mean(x)\n",
    "    y_mean = np.mean(y)\n",
    "    numerator = np.sum((x - x_mean) * (y - y_mean))\n",
    "    denominator = np.sum((x - x_mean) ** 2)\n",
    "    return numerator / denominator\n",
    "\n",
    "def ols_intercept(x, y):\n",
    "    x_mean = np.mean(x)\n",
    "    y_mean = np.mean(y)\n",
    "    slope = ols_slope(x, y)\n",
    "    return y_mean - slope * x_mean\n",
    "\n",
    "def ols(x, y):\n",
    "    slope = ols_slope(x, y)\n",
    "    intercept = ols_intercept(x, y)\n",
    "    return slope, intercept\n",
    "\n",
    "# Calculate the sum of the squared residuals\n",
    "def sse(residuals):\n",
    "    return np.sum(residuals ** 2)\n",
    "\n",
    "# Calculate the variance of the residuals\n",
    "def variance(residuals):\n",
    "    return sse(residuals) / (len(residuals) - 2)\n",
    "\n",
    "# Calculate the standard error of the slope\n",
    "def se_slope(x, residuals):\n",
    "    # numerator\n",
    "    numerator = variance(residuals)\n",
    "    # denominator\n",
    "    x_mean = np.mean(x)\n",
    "    denominator = np.sum((x - x_mean) ** 2)\n",
    "    return np.sqrt(numerator / denominator)\n",
    "\n",
    "def se_intercept(x, residuals):\n",
    "    x_mean = np.mean(x)\n",
    "    denominator = np.sum((x - x_mean) ** 2)\n",
    "    return np.sqrt(variance(residuals)*(1/len(x) + x_mean**2 / denominator))\n",
    "\n",
    "# Calculate the confidence interval\n",
    "def confidence_interval_slope(x, residuals, confidence_level):\n",
    "    # Calculate the standard error of the slope\n",
    "    se = se_slope(x, residuals)\n",
    "\n",
    "    # Calculate the critical t-value\n",
    "    n_data_points = len(x)\n",
    "    df = n_data_points - 2  # degrees of freedom\n",
    "    alpha = 1 - confidence_level\n",
    "    critical_t_value = t.ppf(1 - alpha/2, df)\n",
    "\n",
    "    # Calculate the confidence interval\n",
    "    return critical_t_value * se\n",
    "\n",
    "# Calculate the confidence interval for the intercept\n",
    "def confidence_interval_intercept(x, residuals, confidence_level):\n",
    "    # Calculate the standard error of the intercept\n",
    "    se = se_intercept(x, residuals)\n",
    "\n",
    "    # Calculate the critical t-value\n",
    "    n_data_points = len(x)\n",
    "    df = n_data_points - 2  # degrees of freedom\n",
    "    alpha = 1 - confidence_level\n",
    "    critical_t_value = t.ppf(1 - alpha/2, df)\n",
    "\n",
    "    # Calculate the confidence interval\n",
    "    return critical_t_value * se\n",
    "\n",
    "# linear regression\n",
    "print(\"Performing linear regression\")\n",
    "slope, intercept = ols(df['T_B (K)'], df['H_v (kcal/mol)'])\n",
    "slope_JmolK_lr = slope * 1000 * constants.calorie\n",
    "intercept_kJmol_lr = intercept * constants.calorie"
   ]
  },
  {
   "cell_type": "code",
   "execution_count": 20,
   "id": "33911fe9-5aa3-447b-9d3d-3a5b17bf4e01",
   "metadata": {},
   "outputs": [
    {
     "name": "stdout",
     "output_type": "stream",
     "text": [
      "Slope (J/mol K): optimization 103.85, regression 103.85\n",
      "Intercept (kJ/mol): optimization -4.84, regression -4.84\n"
     ]
    }
   ],
   "source": [
    "print(f\"Slope (J/mol K): optimization {slope_JmolK:.2f}, regression {slope_JmolK_lr:.2f}\")\n",
    "print(f\"Intercept (kJ/mol): optimization {intercept_kJmol:.2f}, regression {intercept_kJmol_lr:.2f}\")"
   ]
  },
  {
   "cell_type": "code",
   "execution_count": 22,
   "id": "4fcdf802-9d9d-4581-875a-067e849d8843",
   "metadata": {},
   "outputs": [],
   "source": [
    "df['H_v (kJ/mol)'] = df['H_v (kcal/mol)'].apply(lambda x: x*constants.calorie)"
   ]
  },
  {
   "cell_type": "code",
   "execution_count": 24,
   "id": "f3a90881-9b13-4279-b259-e314e3bdd55d",
   "metadata": {},
   "outputs": [
    {
     "data": {
      "image/png": "[encoded data removed]",
      "text/plain": [
       "<Figure size 700x400 with 1 Axes>"
      ]
     },
     "metadata": {},
     "output_type": "display_data"
    }
   ],
   "source": [
    "fig, ax = plt.subplots(figsize=(7, 4))\n",
    "fig.tight_layout()\n",
    "\n",
    "# plot with different colors by class\n",
    "sns.scatterplot(df, ax=ax, x='T_B (K)', y='H_v (kJ/mol)', hue='Class')\n",
    "\n",
    "# plot fitted line\n",
    "x = np.linspace(0, df['T_B (K)'].max(), 2)\n",
    "ax.plot(x, \n",
    "    slope_JmolK/1000*x+intercept_kJmol, # make sure units match \n",
    "    '--', \n",
    "    label=f\"$H_v = a\\\\cdot T_B + b$\",\n",
    "    alpha=0.5,\n",
    "    color='black'\n",
    ")\n",
    "\n",
    "# annotate CI\n",
    "ax.text(0, 200, f\"\"\"Parameter: Optimized Value\n",
    "a ($\\\\frac{{J}}{{mol\\\\cdot K}}$): {slope_JmolK:.2f}\n",
    "b ($\\\\frac{{kJ}}{{mol}}$): {intercept_kJmol:.2f}\n",
    "\"\"\")\n",
    "ax.set_xlabel(\"$T_B (K)$\")\n",
    "ax.set_ylabel(\"$H_v (kJ/mol)$\")\n",
    "ax.set_title(\"Trouton's Rule Optimization\")\n",
    "ax.legend()\n",
    "fig.savefig('homework-3-2/trouton.png', dpi=200, bbox_inches='tight')"
   ]
  },
  {
   "cell_type": "markdown",
   "id": "2557b069-ea89-451a-81f7-5549923e1730",
   "metadata": {},
   "source": [
    "## Interpretation"
   ]
  },
  {
   "cell_type": "markdown",
   "id": "21577451-dd47-4b70-8768-26c2d320642b",
   "metadata": {},
   "source": [
    "Both the slope and intercept from the optimization have the same value as their linear regression counterparts (at least to 2 decimal places).<br>\n",
    "The optimization-based approach works well in this case, and would be preferred if we have a more complex model that does not have an analytical solution for the best fit. However, if the objective function has more than one local minima, optimization might produce a result that is not globally optimized and we would have difficulty detecting that. What's more, we cannot obtain confidence intervals from optimization alone.<br>\n",
    "On the other hand, linear regression guarantees a best fit solution and also gives the confidence intervals for the best fit parameters. However, not every regression has an analytical best solution, so this approach is model-specific and cannot be generalized."
   ]
  },
  {
   "cell_type": "code",
   "execution_count": null,
   "id": "06b9968a-0d02-4dc6-9945-e8e675dc26a9",
   "metadata": {},
   "outputs": [],
   "source": []
  }
 ],
 "metadata": {
  "kernelspec": {
   "display_name": "Python (chem-4050)",
   "language": "python",
   "name": "chem-4050"
  },
  "language_info": {
   "codemirror_mode": {
    "name": "ipython",
    "version": 3
   },
   "file_extension": ".py",
   "mimetype": "text/x-python",
   "name": "python",
   "nbconvert_exporter": "python",
   "pygments_lexer": "ipython3",
   "version": "3.12.11"
  }
 },
 "nbformat": 4,
 "nbformat_minor": 5
}

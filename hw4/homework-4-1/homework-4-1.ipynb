{
 "cells": [
  {
   "cell_type": "code",
   "execution_count": 124,
   "id": "1bd5b5a9-71de-4154-9e3d-f5a0486e18e3",
   "metadata": {},
   "outputs": [],
   "source": [
    "from matplotlib import pyplot as plt\n",
    "import pandas as pd\n",
    "import seaborn as sns\n",
    "import numpy as np"
   ]
  },
  {
   "cell_type": "code",
   "execution_count": 125,
   "id": "19c926aa-3912-4fdf-b044-3d5acac46dd0",
   "metadata": {},
   "outputs": [],
   "source": [
    "class IdealGas():\n",
    "    \"\"\"\n",
    "    Base class for defining an ideal gas and computing its pressure-volume work\n",
    "    \"\"\"\n",
    "    def __init__(self, n, temp_i, vol_i):\n",
    "        \"\"\"\n",
    "        IdealGas(n, temp_i, vol_i)\n",
    "        \n",
    "        Parameters:\n",
    "        ----------------------------\n",
    "        n (mol): number of moles of ideal gas\n",
    "        temp_i (K): initial temperature\n",
    "        vol_i (m^3): initial volume\n",
    "        \"\"\"\n",
    "        self.n = n\n",
    "        self.temp_i = temp_i\n",
    "        self.vol_i = vol_i\n",
    "        self.R = 8.314 # J/mol-K\n",
    "    \n",
    "    def pressure_at(self, **kwargs):\n",
    "        \"\"\"\n",
    "        Calculates the pressure with the given conditions\n",
    "        \n",
    "        Parameters:\n",
    "        -----------------------------\n",
    "        **kwargs: default calculation assumes an isotherm and needs argument `vol`. Default value is 1 m^3.\n",
    "        \n",
    "        Returns:\n",
    "        Pressure (Pa) at the given condition\n",
    "        \"\"\"\n",
    "        return self.n*self.R*self.temp_i/kwargs.get('vol', 1)\n",
    "        \n",
    "    def work(self, vol_i, vol_f):\n",
    "        \"\"\"\n",
    "        Computes the work done from vol_i to vol_f\n",
    "        \n",
    "        Parameters:\n",
    "        -----------------------------\n",
    "        vol_i (m^3): initial volume\n",
    "        vol_f (m^3): final volume\n",
    "        \n",
    "        Returns:\n",
    "        Work done from vol_i to vol_f (J)\n",
    "        \"\"\"\n",
    "        from scipy.integrate import trapezoid\n",
    "        import numpy as np\n",
    "        x = np.linspace(vol_i, vol_f, 1000)\n",
    "        y = np.array([self.pressure_at(vol) for vol in x])\n",
    "        work = -trapezoid(y, x)\n",
    "        return work"
   ]
  },
  {
   "cell_type": "code",
   "execution_count": 126,
   "id": "9c2ced77-a97c-457a-853d-0eeba8e69e0f",
   "metadata": {},
   "outputs": [],
   "source": [
    "class IsothermalIdealGas(IdealGas):\n",
    "\t\"\"\"\n",
    "\tDefines an ideal gas under isothermal conditions\n",
    "\t\"\"\"\n",
    "\tdef pressure_at(self, vol): # override\n",
    "\t\t\"\"\"\n",
    "\t\tCalculates the pressure at the given volume.\n",
    "\n",
    "\t\tParameters:\n",
    "\t\t-----------------------------\n",
    "\t\tvol (m^3): current volume.\n",
    "\n",
    "\t\tReturns:\n",
    "\t\tPressure (Pa) at the current volume\n",
    "\t\t\"\"\"\n",
    "\t\treturn self.n*self.R*self.temp_i/vol"
   ]
  },
  {
   "cell_type": "code",
   "execution_count": 127,
   "id": "835a37d2-7101-467f-bd6a-9c5ab617d651",
   "metadata": {},
   "outputs": [],
   "source": [
    "def compute_work_isothermal(vol_i, vol_f, n=1, temp=298):\n",
    "    \"\"\"\n",
    "\tComputes the work done on an ideal gas undergoing isothermal expansion\n",
    "\n",
    "\tParameters:\n",
    "\t-----------------------------\n",
    "\tvol_i (m^3): initial volume\n",
    "\tvol_f (m^3): final volume\n",
    "\tn (mol): number of moles\n",
    "\ttemp (K): temperature\n",
    "\n",
    "\tReturns:\n",
    "\tWork done from vol_i to vol_f (J)\n",
    "\t\"\"\"\n",
    "    isotherm = IsothermalIdealGas(n, temp, vol_i)\n",
    "    return isotherm.work(vol_i, vol_f)"
   ]
  },
  {
   "cell_type": "code",
   "execution_count": 128,
   "id": "0cfed459-c822-4cae-a500-17f71b25feef",
   "metadata": {},
   "outputs": [
    {
     "data": {
      "text/plain": [
       "np.float64(-576.2826179841131)"
      ]
     },
     "execution_count": 128,
     "metadata": {},
     "output_type": "execute_result"
    }
   ],
   "source": [
    "compute_work_isothermal(1, 2, temp=100)"
   ]
  },
  {
   "cell_type": "code",
   "execution_count": 129,
   "id": "dc55d49c-d84d-4000-bc46-8a9224fe0a59",
   "metadata": {},
   "outputs": [],
   "source": [
    "class AdiabaticIdealGas(IdealGas):\n",
    "    \"\"\" \n",
    "    Defines an ideal gas under adiabatic conditions \n",
    "    \"\"\"\n",
    "    def __init__(self, n, temp_i, vol_i, gamma): # override \n",
    "        \"\"\" \n",
    "        AdiabaticIdealGas(n, temp_i, vol_i, gamma) \n",
    "        Parameters:\n",
    "        ---------------------------- \n",
    "        n (mol): number of moles of ideal gas\n",
    "        temp_i (K): initial temperature \n",
    "        vol_i (m^3): initial volume \n",
    "        gamma: adiabatic index of the ideal gas \n",
    "        \"\"\" \n",
    "        super().__init__(n, temp_i, vol_i) \n",
    "        self.gamma = gamma \n",
    "        p_i = n*self.R*temp_i/vol_i # compute initial pressure \n",
    "        self.constant = p_i * vol_i**gamma \n",
    "    \n",
    "    def pressure_at(self, vol): # override \n",
    "        \"\"\" \n",
    "        Calculates the pressure at the given volume. \n",
    "        \n",
    "        Parameters: \n",
    "        ----------------------------- \n",
    "        vol (m^3): current volume. \n",
    "        \n",
    "        Returns: \n",
    "        Pressure (Pa) at the current volume \n",
    "        \"\"\" \n",
    "        return self.constant / (vol**self.gamma)"
   ]
  },
  {
   "cell_type": "code",
   "execution_count": 130,
   "id": "8c318c08-160c-40fd-a70b-caddc13de0d4",
   "metadata": {},
   "outputs": [],
   "source": [
    "def compute_work_adiabatic(vol_i, vol_f, gamma, n=1, temp_i=298):\n",
    "    \"\"\"\n",
    "\tComputes the work done on an ideal gas undergoing adiabatic expansion\n",
    "\n",
    "\tParameters:\n",
    "\t-----------------------------\n",
    "\tvol_i (m^3): initial volume\n",
    "\tvol_f (m^3): final volume\n",
    "    gamma: the adiabatic index of the ideal gas\n",
    "\tn (mol): number of moles\n",
    "\ttemp_i (K): initial temperature\n",
    "\n",
    "\tReturns:\n",
    "\tWork done from vol_i to vol_f (J)\n",
    "\t\"\"\"\n",
    "    adiabat = AdiabaticIdealGas(n, temp_i, vol_i, gamma)\n",
    "    return adiabat.work(vol_i, vol_f)"
   ]
  },
  {
   "cell_type": "code",
   "execution_count": 131,
   "id": "d8ff614e-500a-4050-a795-febb6f7cdc86",
   "metadata": {},
   "outputs": [
    {
     "data": {
      "text/plain": [
       "np.float64(-503.2916370307656)"
      ]
     },
     "execution_count": 131,
     "metadata": {},
     "output_type": "execute_result"
    }
   ],
   "source": [
    "compute_work_adiabatic(1, 2, 1.4, temp_i=100)"
   ]
  },
  {
   "cell_type": "code",
   "execution_count": 132,
   "id": "2a9a1e80-fdd3-4d1c-a51a-a4b254b2a2d7",
   "metadata": {},
   "outputs": [],
   "source": [
    "n = 1 # mol\n",
    "temp_i = 300 # K\n",
    "v_i = 0.1 # m^3\n",
    "gamma = 1.4"
   ]
  },
  {
   "cell_type": "code",
   "execution_count": 136,
   "id": "f4c6a4b5-7137-448d-af80-a242c0bbb938",
   "metadata": {},
   "outputs": [],
   "source": [
    "vols = np.linspace(v_i, 3*v_i, 100)\n",
    "works = pd.DataFrame({'final_volume': vols})\n",
    "works['isothermal'] = works['final_volume'].apply(lambda v_f: compute_work_isothermal(v_i, v_f, n, temp_i))\n",
    "works['adiabatic'] = works['final_volume'].apply(lambda v_f: compute_work_adiabatic(v_i, v_f, gamma, n, temp_i))\n",
    "works.to_csv('work.csv')"
   ]
  },
  {
   "cell_type": "code",
   "execution_count": 134,
   "id": "a6382f20-1e6d-4abd-913a-c961b4d6cf2c",
   "metadata": {},
   "outputs": [],
   "source": [
    "plt_works = works.melt(\n",
    "    id_vars='final_volume',\n",
    "    value_vars=['isothermal', 'adiabatic'],\n",
    "    var_name='condition',\n",
    "    value_name='work'\n",
    ")"
   ]
  },
  {
   "cell_type": "code",
   "execution_count": 141,
   "id": "66a7d61a-06f2-42fe-8279-576e693da349",
   "metadata": {},
   "outputs": [
    {
     "data": {
      "image/png": "[encoded data removed]",
      "text/plain": [
       "<Figure size 600x400 with 1 Axes>"
      ]
     },
     "metadata": {},
     "output_type": "display_data"
    }
   ],
   "source": [
    "fig, ax = plt.subplots()\n",
    "fig.set_size_inches(6,4)\n",
    "sns.lineplot(plt_works, x='final_volume', y='work', hue='condition')\n",
    "ax.set_ylabel('Work (J)')\n",
    "ax.set_xlabel('Final Volume ($m^3$)')\n",
    "ax.set_title('Work done by an ideal gas in isothermal and adiabatic expansion')\n",
    "fig.savefig('work.png', dpi=210)"
   ]
  },
  {
   "cell_type": "markdown",
   "id": "3fc50751-f884-4d7e-9898-4e9b67ca6518",
   "metadata": {},
   "source": [
    "The work done by an ideal gas on the surroundings in an isothermal expansion is always greater than the work done in an adiabatic process for the same volume change. This makes chemical sense. $\\Delta U = w + q$, in the adiabatic process, $q=0$, $w<0$, so $\\Delta U<0$. Since $\\Delta U = n C_v \\Delta T$ for ideal gas, $\\Delta T<0$. The ideal gas law states that $PV=nRT$, so if $T$ decreases, $P$ must also decrease. Therefore for the adiabatic process, the pressure integrand is also less than that in the isothermal process."
   ]
  }
 ],
 "metadata": {
  "kernelspec": {
   "display_name": "Python (chem-4050)",
   "language": "python",
   "name": "chem-4050"
  },
  "language_info": {
   "codemirror_mode": {
    "name": "ipython",
    "version": 3
   },
   "file_extension": ".py",
   "mimetype": "text/x-python",
   "name": "python",
   "nbconvert_exporter": "python",
   "pygments_lexer": "ipython3",
   "version": "3.12.11"
  }
 },
 "nbformat": 4,
 "nbformat_minor": 5
}

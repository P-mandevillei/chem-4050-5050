{
 "cells": [
  {
   "cell_type": "code",
   "execution_count": 117,
   "id": "087ae853-f41a-4c58-802b-b3475aa4f3fe",
   "metadata": {},
   "outputs": [],
   "source": [
    "from scipy import constants\n",
    "import numpy as np\n",
    "import pandas as pd\n",
    "from matplotlib import pyplot as plt\n",
    "from scipy.integrate import trapezoid\n",
    "import seaborn as sns\n",
    "from tqdm import tqdm"
   ]
  },
  {
   "cell_type": "code",
   "execution_count": 118,
   "id": "ef6af03b-b72c-4c2a-a6d9-acb0ca793ab3",
   "metadata": {},
   "outputs": [],
   "source": [
    "def lennard_jones(r, epsilon=0.0103, sigma=3.4):\n",
    "    \"\"\"\n",
    "    Calculates the Lennard_Jones potential.\n",
    "\n",
    "    Parameters:\n",
    "        r (angstrom): interatomic distance. If an array, applied to each element and preserves the shape.\n",
    "        epsilon (eV): depth of the potential well (minimum energy)\n",
    "        sigma (angstrom): zero potential distance\n",
    "\n",
    "    Returns:\n",
    "        Lennard_Jones potentials **(J)**\n",
    "    \"\"\"\n",
    "    # avoid zeros\n",
    "    r[r == 0] = 1e-12\n",
    "    V_eV = 4*epsilon*((sigma/r)**12 - (sigma/r)**6)\n",
    "    return V_eV * constants.eV"
   ]
  },
  {
   "cell_type": "code",
   "execution_count": 119,
   "id": "63eed610-c1f8-4917-9141-1cca4c8b54f8",
   "metadata": {},
   "outputs": [],
   "source": [
    "def distance(p1, p2):\n",
    "    \"\"\"\n",
    "    Euclidean distance between p1 and p2.\n",
    "\n",
    "    Parameters\n",
    "    -----------------------------\n",
    "    p1, p2: nd arrays of the same shape of (3, x, x, ...)\n",
    "\n",
    "    Returns\n",
    "    An nd array of euclidean distance of the shape (x, x, ...)\n",
    "    \"\"\"\n",
    "    return np.sqrt(\n",
    "        np.sum(\n",
    "            (np.array(p1) - np.array(p2))**2, axis=0\n",
    "        )\n",
    "    )"
   ]
  },
  {
   "cell_type": "code",
   "execution_count": 129,
   "id": "b2574217-7624-4110-a386-a74250cc02d5",
   "metadata": {},
   "outputs": [],
   "source": [
    "def calc_integrand(x1, y1, z1, x2, y2, z2, temps):\n",
    "    \"\"\"\n",
    "    Computes the integrand for the partition function.\n",
    "\n",
    "    Parameters\n",
    "    -------------------------------\n",
    "    x1, y1, z1 (angstrom): coordinates of the first particle\n",
    "    x2, y2, z2 (angstrom): coordinates of the second particle\n",
    "    temps (K): a 1d array of temperatures\n",
    "\n",
    "    Returns\n",
    "    ndArray of integrands for the partition function with the same first dimension as temp.\n",
    "    \"\"\"\n",
    "\n",
    "    betas = 1/(constants.k * np.array(temps))\n",
    "    lj = lennard_jones(distance([x1, y1, z1], [x2, y2, z2]))\n",
    "    return np.array([np.e ** (-beta_i*lj) for beta_i in tqdm(betas)])"
   ]
  },
  {
   "cell_type": "code",
   "execution_count": 159,
   "id": "d8e231b0-a0b7-471c-ada5-7e12ed0efad1",
   "metadata": {},
   "outputs": [],
   "source": [
    "def lj_partition(temps, length, n=5):\n",
    "    \"\"\"\n",
    "    Computes the classical partition function for 2 Lennard-Jones particles\n",
    "    in a cubic box with sides of length angstroms\n",
    "\n",
    "    Parameters\n",
    "    ------------------------------\n",
    "    temps (K): 1d np.array of temperatures\n",
    "    length (angstrom): side length of the cubic box\n",
    "    n: number of points to define the integral grid\n",
    "\n",
    "    Returns\n",
    "    1d array of partition functions of the same length as temps\n",
    "    \"\"\"\n",
    "    dim = np.linspace(0, length, n)\n",
    "    print(\"Allocating memory...\")\n",
    "    x1, y1, z1, x2, y2, z2 = np.meshgrid(\n",
    "        dim, dim, dim, dim, dim, dim,\n",
    "        indexing='ij'\n",
    "    ) # memory =  6n^6 huge!\n",
    "    print(\"Calculating integrands...\")\n",
    "    integrands = calc_integrand(x1, y1, z1, x2, y2, z2, temps)\n",
    "    results = np.zeros(temps.shape[0])\n",
    "    # 6-fold integral for each temp\n",
    "    print(\"Integrating...\")\n",
    "    betas = 1/(constants.k * np.array(temps))\n",
    "    for i, integrand in tqdm(enumerate(integrands)):\n",
    "        last_integral = integrand\n",
    "        for _ in range(6):\n",
    "            last_integral = trapezoid(last_integral, dim, axis=0)\n",
    "        m = 39.948 / 1000 / constants.N_A # kg\n",
    "        wavelength = np.sqrt(betas[i] * constants.h**2 / (2*np.pi*m))\n",
    "        coeff = (1/constants.h)**6 * (1/wavelength)**6\n",
    "        results[i] = coeff * last_integral\n",
    "    return results"
   ]
  },
  {
   "cell_type": "code",
   "execution_count": 160,
   "id": "654fe8ab-905e-42c3-aa61-89eb487127b3",
   "metadata": {},
   "outputs": [],
   "source": [
    "class CanonicalEnsemble:\n",
    "    \"\"\"\n",
    "    Defines a canonical ensemble with partition function Z\n",
    "    \"\"\"\n",
    "    def __init__(self, z, temp_1, temp_2):\n",
    "        \"\"\"\n",
    "        CanonicalEnsemble(z)\n",
    "        \n",
    "        Parameters\n",
    "        ---------------------------\n",
    "        z: partition function at a given temperature (K). Must have signature of z(temps) where temps is a 1d np.array\n",
    "        temp_1 (K): starting temperature\n",
    "        temp_2 (K): ending temperature\n",
    "        \"\"\"\n",
    "        self.z = z\n",
    "        self.temp_1 = temp_1\n",
    "        self.temp_2 = temp_2\n",
    "        self.z_vals = None\n",
    "        self.u = None\n",
    "        self.cv = None\n",
    "        self.thermo_df = None\n",
    "\n",
    "    def calc_z(self, n=100):\n",
    "        \"\"\"\n",
    "        Calculates the partition functions of the system from temp_1 to temp_2 for n points\n",
    "        \n",
    "        Parameters\n",
    "        ----------------------------\n",
    "        n: number of datapoints\n",
    "        \n",
    "        Returns\n",
    "        -----------------------------\n",
    "        An np.array of calculated partition functions from temp_1 to temp_2 with length n (J)\n",
    "        \"\"\"\n",
    "        temps = np.linspace(self.temp_1, self.temp_2, n)\n",
    "        zs = np.array(self.z(temps))\n",
    "        self.z_vals = zs\n",
    "        return zs\n",
    "    \n",
    "    def calc_u(self, n=100):\n",
    "        \"\"\"\n",
    "        Calculates the internal energy of the system from temp_1 to temp_2 for n points\n",
    "        \n",
    "        Parameters\n",
    "        ----------------------------\n",
    "        n: number of datapoints\n",
    "        \n",
    "        Returns\n",
    "        -----------------------------\n",
    "        An np.array of calculated internal energies from temp_1 to temp_2 with length n (J)\n",
    "        \"\"\"\n",
    "        if not self.z_vals:\n",
    "            self.calc_z(n)\n",
    "        temps = np.linspace(self.temp_1, self.temp_2, n)\n",
    "        lnZs = np.log(self.z_vals)\n",
    "        betas = 1/(constants.k*temps)\n",
    "        us = -np.gradient(lnZs, betas)\n",
    "        self.u = us\n",
    "        return us\n",
    "    \n",
    "    def calc_cv(self, n=100):\n",
    "        \"\"\"\n",
    "        Calculates the constant volume heat capacity of the system from temp_1 to temp_2 for n points\n",
    "        \n",
    "        Parameters\n",
    "        ----------------------------\n",
    "        n: number of datapoints\n",
    "        \n",
    "        Returns\n",
    "        -----------------------------\n",
    "        An np.array of calculated Cv from temp_1 to temp_2 with length n (J/K)\n",
    "        \"\"\"\n",
    "        if not self.u:\n",
    "            self.calc_u(n)\n",
    "        temps = np.linspace(self.temp_1, self.temp_2, n)\n",
    "        cvs = np.gradient(self.u, temps)\n",
    "        self.cv = cvs\n",
    "        return cvs\n",
    "\n",
    "    def calc_thermo(self, n=100):\n",
    "        \"\"\"\n",
    "        Calculates the internal energy, and Cv of the system from temp_1 to temp_2 for n points\n",
    "        Result is stored in attributes u and cv, respectively.\n",
    "\n",
    "        Parameters\n",
    "        ----------------------------\n",
    "        n: number of datapoints\n",
    "        \"\"\"\n",
    "        self.calc_cv(n)\n",
    "        self.thermo_df = pd.DataFrame({\n",
    "            'temperature': np.linspace(self.temp_1, self.temp_2, n),\n",
    "            'internal_energy': self.u,\n",
    "            'constant_volume_heat_capacity': self.cv\n",
    "        })"
   ]
  },
  {
   "cell_type": "code",
   "execution_count": 161,
   "id": "9494e497-ca04-4ccc-97fa-8fa6cc5f5aa0",
   "metadata": {},
   "outputs": [],
   "source": [
    "length = 10 # angstrom\n",
    "n = 10\n",
    "\n",
    "ljParticles = CanonicalEnsemble(\n",
    "    lambda temps: lj_partition(temps, length=length, n=n),\n",
    "    10,\n",
    "    1000\n",
    ")"
   ]
  },
  {
   "cell_type": "code",
   "execution_count": 162,
   "id": "a25b1505-e48a-4352-804f-6a9bf7cc2ab1",
   "metadata": {},
   "outputs": [
    {
     "name": "stdout",
     "output_type": "stream",
     "text": [
      "Allocating memory...\n",
      "Calculating integrands...\n"
     ]
    },
    {
     "name": "stderr",
     "output_type": "stream",
     "text": [
      "100%|████████████████████████████████████████████████████████████████████████████████| 200/200 [00:13<00:00, 14.99it/s]\n"
     ]
    },
    {
     "name": "stdout",
     "output_type": "stream",
     "text": [
      "Integrating...\n"
     ]
    },
    {
     "name": "stderr",
     "output_type": "stream",
     "text": [
      "200it [00:05, 38.90it/s]\n"
     ]
    }
   ],
   "source": [
    "ljParticles.calc_thermo(200)"
   ]
  },
  {
   "cell_type": "code",
   "execution_count": 135,
   "id": "a527d21c-b016-4dd3-a9fb-6c0058798d5c",
   "metadata": {},
   "outputs": [],
   "source": [
    "ljParticles.thermo_df.to_csv(\"thermo_properties.csv\", index=False)"
   ]
  },
  {
   "cell_type": "code",
   "execution_count": 163,
   "id": "e67933b3-b73e-40a3-be9c-6a15373f0209",
   "metadata": {},
   "outputs": [],
   "source": [
    "df = ljParticles.thermo_df\n",
    "max_row = df['constant_volume_heat_capacity'].idxmax(axis=0)\n",
    "dissoc_temp = df.iloc[max_row]['temperature']"
   ]
  },
  {
   "cell_type": "code",
   "execution_count": 165,
   "id": "a23fecff-94eb-438f-a714-b8ac619fa769",
   "metadata": {},
   "outputs": [
    {
     "data": {
      "image/png": "[encoded data removed]",
      "text/plain": [
       "<Figure size 600x400 with 1 Axes>"
      ]
     },
     "metadata": {},
     "output_type": "display_data"
    }
   ],
   "source": [
    "fig, ax = plt.subplots()\n",
    "fig.set_size_inches(6, 4)\n",
    "sns.lineplot(\n",
    "    ljParticles.thermo_df,\n",
    "    x = 'temperature',\n",
    "    y = 'constant_volume_heat_capacity'\n",
    ")\n",
    "ax.axvline(x=dissoc_temp, \n",
    "           label=f'Dissociation Temperature = {dissoc_temp:.2f} K',\n",
    "           linestyle='--', color='r', alpha=0.6)\n",
    "ax.set_xlabel('Temperature (K)')\n",
    "ax.set_ylabel('$C_v$ (J/K)')\n",
    "ax.set_title(\"$C_v$ vs. temperature for a pair of Lennard-Jones Ar particles\")\n",
    "ax.legend()\n",
    "fig.savefig(\"cv_vs_temperature.png\", dpi=210)"
   ]
  },
  {
   "cell_type": "code",
   "execution_count": null,
   "id": "b9aa531d-86b1-42cd-88f0-e8316640aebf",
   "metadata": {},
   "outputs": [],
   "source": []
  }
 ],
 "metadata": {
  "kernelspec": {
   "display_name": "Python (chem-4050)",
   "language": "python",
   "name": "chem-4050"
  },
  "language_info": {
   "codemirror_mode": {
    "name": "ipython",
    "version": 3
   },
   "file_extension": ".py",
   "mimetype": "text/x-python",
   "name": "python",
   "nbconvert_exporter": "python",
   "pygments_lexer": "ipython3",
   "version": "3.12.11"
  }
 },
 "nbformat": 4,
 "nbformat_minor": 5
}

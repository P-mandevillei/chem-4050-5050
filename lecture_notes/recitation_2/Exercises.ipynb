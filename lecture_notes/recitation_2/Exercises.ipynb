{
 "cells": [
  {
   "cell_type": "markdown",
   "id": "f131a070-45f2-4723-876e-6842e7dd31f9",
   "metadata": {},
   "source": [
    "# Shell Exercises"
   ]
  },
  {
   "cell_type": "code",
   "execution_count": 8,
   "id": "e894e584-8567-48c7-aa3b-b6ad15310213",
   "metadata": {},
   "outputs": [
    {
     "name": "stdout",
     "output_type": "stream",
     "text": [
      "/home/reptiman/recitation_2\n"
     ]
    }
   ],
   "source": [
    "! pwd"
   ]
  },
  {
   "cell_type": "code",
   "execution_count": 9,
   "id": "65d23204-ef32-46bc-b1b0-9b722b2d2954",
   "metadata": {},
   "outputs": [],
   "source": [
    "! mkdir chem4050"
   ]
  },
  {
   "cell_type": "code",
   "execution_count": 10,
   "id": "56530143-5933-49d8-85bc-b078b886038c",
   "metadata": {},
   "outputs": [
    {
     "name": "stdout",
     "output_type": "stream",
     "text": [
      "/home/reptiman/recitation_2/chem4050\n"
     ]
    }
   ],
   "source": [
    "! cd chem4050; pwd"
   ]
  },
  {
   "cell_type": "code",
   "execution_count": 11,
   "id": "62204e9c-80ad-4582-a75a-2ba23f5429b3",
   "metadata": {},
   "outputs": [
    {
     "name": "stdout",
     "output_type": "stream",
     "text": [
      "/home/reptiman/recitation_2\n"
     ]
    }
   ],
   "source": [
    "! pwd"
   ]
  },
  {
   "cell_type": "code",
   "execution_count": 13,
   "id": "e40e11ea-b587-4bb3-8dbf-5077a3da677c",
   "metadata": {},
   "outputs": [
    {
     "name": "stdout",
     "output_type": "stream",
     "text": [
      "notes.txt\n"
     ]
    }
   ],
   "source": [
    "! touch chem4050/notes.txt; ls chem4050"
   ]
  },
  {
   "cell_type": "code",
   "execution_count": 15,
   "id": "3338b5e2-3a5c-4bbd-9c20-d50cda126dc2",
   "metadata": {},
   "outputs": [
    {
     "name": "stdout",
     "output_type": "stream",
     "text": [
      "backup.txt  notes.txt\n"
     ]
    }
   ],
   "source": [
    "! cp chem4050/notes.txt chem4050/backup.txt; ls chem4050"
   ]
  },
  {
   "cell_type": "code",
   "execution_count": 16,
   "id": "fefc3639-7e3f-4742-a0d6-bc0d7a3b06a0",
   "metadata": {},
   "outputs": [
    {
     "name": "stdout",
     "output_type": "stream",
     "text": [
      "Untitled.ipynb\tarchive  chem4050\n"
     ]
    }
   ],
   "source": [
    "! mkdir archive; ls"
   ]
  },
  {
   "cell_type": "code",
   "execution_count": 17,
   "id": "dd17f66e-c901-4dee-971e-662705861ef8",
   "metadata": {},
   "outputs": [
    {
     "name": "stdout",
     "output_type": "stream",
     "text": [
      "backup.txt\n"
     ]
    }
   ],
   "source": [
    "! mv chem4050/backup.txt archive/backup.txt; ls archive"
   ]
  },
  {
   "cell_type": "code",
   "execution_count": 18,
   "id": "4639b416-38dc-4d07-a829-3912edbf28a3",
   "metadata": {},
   "outputs": [],
   "source": [
    "! echo \"Hello Computational Chemistry\" > hello.txt"
   ]
  },
  {
   "cell_type": "code",
   "execution_count": 20,
   "id": "4c17334f-63c6-4e62-aec6-c986caf21865",
   "metadata": {},
   "outputs": [
    {
     "name": "stdout",
     "output_type": "stream",
     "text": [
      "3\n"
     ]
    }
   ],
   "source": [
    "! cat hello.txt | wc -w"
   ]
  },
  {
   "cell_type": "code",
   "execution_count": 21,
   "id": "1a622143-ab34-402b-b35c-37ce6fc383fe",
   "metadata": {},
   "outputs": [
    {
     "ename": "OSError",
     "evalue": "Background processes not supported.",
     "output_type": "error",
     "traceback": [
      "\u001b[0;31m---------------------------------------------------------------------------\u001b[0m",
      "\u001b[0;31mOSError\u001b[0m                                   Traceback (most recent call last)",
      "Cell \u001b[0;32mIn[21], line 1\u001b[0m\n\u001b[0;32m----> 1\u001b[0m \u001b[43mget_ipython\u001b[49m\u001b[43m(\u001b[49m\u001b[43m)\u001b[49m\u001b[38;5;241;43m.\u001b[39;49m\u001b[43msystem\u001b[49m\u001b[43m(\u001b[49m\u001b[38;5;124;43m'\u001b[39;49m\u001b[38;5;124;43m sleep 30 &\u001b[39;49m\u001b[38;5;124;43m'\u001b[39;49m\u001b[43m)\u001b[49m\n",
      "File \u001b[0;32m~/miniconda3/lib/python3.12/site-packages/ipykernel/zmqshell.py:641\u001b[0m, in \u001b[0;36mZMQInteractiveShell.system_piped\u001b[0;34m(self, cmd)\u001b[0m\n\u001b[1;32m    634\u001b[0m \u001b[38;5;28;01mif\u001b[39;00m cmd\u001b[38;5;241m.\u001b[39mrstrip()\u001b[38;5;241m.\u001b[39mendswith(\u001b[38;5;124m\"\u001b[39m\u001b[38;5;124m&\u001b[39m\u001b[38;5;124m\"\u001b[39m):\n\u001b[1;32m    635\u001b[0m     \u001b[38;5;66;03m# this is *far* from a rigorous test\u001b[39;00m\n\u001b[1;32m    636\u001b[0m     \u001b[38;5;66;03m# We do not support backgrounding processes because we either use\u001b[39;00m\n\u001b[1;32m    637\u001b[0m     \u001b[38;5;66;03m# pexpect or pipes to read from.  Users can always just call\u001b[39;00m\n\u001b[1;32m    638\u001b[0m     \u001b[38;5;66;03m# os.system() or use ip.system=ip.system_raw\u001b[39;00m\n\u001b[1;32m    639\u001b[0m     \u001b[38;5;66;03m# if they really want a background process.\u001b[39;00m\n\u001b[1;32m    640\u001b[0m     msg \u001b[38;5;241m=\u001b[39m \u001b[38;5;124m\"\u001b[39m\u001b[38;5;124mBackground processes not supported.\u001b[39m\u001b[38;5;124m\"\u001b[39m\n\u001b[0;32m--> 641\u001b[0m     \u001b[38;5;28;01mraise\u001b[39;00m \u001b[38;5;167;01mOSError\u001b[39;00m(msg)\n\u001b[1;32m    643\u001b[0m \u001b[38;5;66;03m# we explicitly do NOT return the subprocess status code, because\u001b[39;00m\n\u001b[1;32m    644\u001b[0m \u001b[38;5;66;03m# a non-None value would trigger :func:`sys.displayhook` calls.\u001b[39;00m\n\u001b[1;32m    645\u001b[0m \u001b[38;5;66;03m# Instead, we store the exit_code in user_ns.\u001b[39;00m\n\u001b[1;32m    646\u001b[0m \u001b[38;5;66;03m# Also, protect system call from UNC paths on Windows here too\u001b[39;00m\n\u001b[1;32m    647\u001b[0m \u001b[38;5;66;03m# as is done in InteractiveShell.system_raw\u001b[39;00m\n\u001b[1;32m    648\u001b[0m \u001b[38;5;28;01mif\u001b[39;00m sys\u001b[38;5;241m.\u001b[39mplatform \u001b[38;5;241m==\u001b[39m \u001b[38;5;124m\"\u001b[39m\u001b[38;5;124mwin32\u001b[39m\u001b[38;5;124m\"\u001b[39m:\n",
      "\u001b[0;31mOSError\u001b[0m: Background processes not supported."
     ]
    }
   ],
   "source": [
    "! sleep 30 &"
   ]
  },
  {
   "cell_type": "code",
   "execution_count": 22,
   "id": "e658c796-24f2-416b-a983-be4829e25328",
   "metadata": {},
   "outputs": [
    {
     "name": "stdout",
     "output_type": "stream",
     "text": [
      "  PID TTY          TIME CMD\n",
      "  772 pts/1    00:00:00 ps\n"
     ]
    }
   ],
   "source": [
    "! ps"
   ]
  },
  {
   "cell_type": "code",
   "execution_count": 23,
   "id": "5489af47-b078-418e-9ae8-9e27271ae5be",
   "metadata": {},
   "outputs": [
    {
     "name": "stdout",
     "output_type": "stream",
     "text": [
      "kill: usage: kill [-s sigspec | -n signum | -sigspec] pid | jobspec ... or kill -l [sigspec]\n"
     ]
    }
   ],
   "source": [
    "! kill"
   ]
  }
 ],
 "metadata": {
  "kernelspec": {
   "display_name": "Python 3 (ipykernel)",
   "language": "python",
   "name": "python3"
  },
  "language_info": {
   "codemirror_mode": {
    "name": "ipython",
    "version": 3
   },
   "file_extension": ".py",
   "mimetype": "text/x-python",
   "name": "python",
   "nbconvert_exporter": "python",
   "pygments_lexer": "ipython3",
   "version": "3.12.8"
  }
 },
 "nbformat": 4,
 "nbformat_minor": 5
}
